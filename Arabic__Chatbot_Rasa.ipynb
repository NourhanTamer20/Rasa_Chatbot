{
  "cells": [
    {
      "cell_type": "markdown",
      "metadata": {
        "id": "view-in-github",
        "colab_type": "text"
      },
      "source": [
        "<a href=\"https://colab.research.google.com/github/NourhanTamer20/Rasa_Chatbot/blob/main/Arabic__Chatbot_Rasa.ipynb\" target=\"_parent\"><img src=\"https://colab.research.google.com/assets/colab-badge.svg\" alt=\"Open In Colab\"/></a>"
      ]
    },
    {
      "cell_type": "markdown",
      "source": [
        "**Install Dependecies**"
      ],
      "metadata": {
        "id": "rOzyn0sXSswS"
      }
    },
    {
      "cell_type": "code",
      "execution_count": null,
      "metadata": {
        "colab": {
          "base_uri": "https://localhost:8080/",
          "height": 1000
        },
        "id": "o2TqugUYOKOD",
        "outputId": "b2577a91-d65a-4761-c0a3-889f201b0c3d"
      },
      "outputs": [
        {
          "output_type": "stream",
          "name": "stdout",
          "text": [
            "Collecting Rasa\n",
            "  Downloading rasa-3.6.4-py3-none-any.whl (836 kB)\n",
            "\u001b[2K     \u001b[90m━━━━━━━━━━━━━━━━━━━━━━━━━━━━━━━━━━━━━━━\u001b[0m \u001b[32m836.5/836.5 kB\u001b[0m \u001b[31m5.6 MB/s\u001b[0m eta \u001b[36m0:00:00\u001b[0m\n",
            "\u001b[?25hCollecting CacheControl<0.13.0,>=0.12.9 (from Rasa)\n",
            "  Downloading CacheControl-0.12.14-py2.py3-none-any.whl (21 kB)\n",
            "Requirement already satisfied: PyJWT[crypto]<3.0.0,>=2.0.0 in /usr/lib/python3/dist-packages (from Rasa) (2.3.0)\n",
            "Collecting SQLAlchemy<1.5.0,>=1.4.0 (from Rasa)\n",
            "  Downloading SQLAlchemy-1.4.49-cp310-cp310-manylinux_2_5_x86_64.manylinux1_x86_64.manylinux_2_17_x86_64.manylinux2014_x86_64.whl (1.6 MB)\n",
            "\u001b[2K     \u001b[90m━━━━━━━━━━━━━━━━━━━━━━━━━━━━━━━━━━━━━━━━\u001b[0m \u001b[32m1.6/1.6 MB\u001b[0m \u001b[31m12.8 MB/s\u001b[0m eta \u001b[36m0:00:00\u001b[0m\n",
            "\u001b[?25hRequirement already satisfied: absl-py<1.5,>=0.9 in /usr/local/lib/python3.10/dist-packages (from Rasa) (1.4.0)\n",
            "Collecting aio-pika<8.2.4,>=6.7.1 (from Rasa)\n",
            "  Downloading aio_pika-8.2.3-py3-none-any.whl (49 kB)\n",
            "\u001b[2K     \u001b[90m━━━━━━━━━━━━━━━━━━━━━━━━━━━━━━━━━━━━━━━━\u001b[0m \u001b[32m50.0/50.0 kB\u001b[0m \u001b[31m3.1 MB/s\u001b[0m eta \u001b[36m0:00:00\u001b[0m\n",
            "\u001b[?25hCollecting aiogram<2.26 (from Rasa)\n",
            "  Downloading aiogram-2.25.1-py3-none-any.whl (203 kB)\n",
            "\u001b[2K     \u001b[90m━━━━━━━━━━━━━━━━━━━━━━━━━━━━━━━━━━━━━━\u001b[0m \u001b[32m203.4/203.4 kB\u001b[0m \u001b[31m11.5 MB/s\u001b[0m eta \u001b[36m0:00:00\u001b[0m\n",
            "\u001b[?25hRequirement already satisfied: aiohttp!=3.7.4.post0,<3.9,>=3.6 in /usr/local/lib/python3.10/dist-packages (from Rasa) (3.8.5)\n",
            "Collecting apscheduler<3.10,>=3.6 (from Rasa)\n",
            "  Downloading APScheduler-3.9.1.post1-py2.py3-none-any.whl (59 kB)\n",
            "\u001b[2K     \u001b[90m━━━━━━━━━━━━━━━━━━━━━━━━━━━━━━━━━━━━━━━━\u001b[0m \u001b[32m59.6/59.6 kB\u001b[0m \u001b[31m5.0 MB/s\u001b[0m eta \u001b[36m0:00:00\u001b[0m\n",
            "\u001b[?25hCollecting attrs<22.2,>=19.3 (from Rasa)\n",
            "  Downloading attrs-22.1.0-py2.py3-none-any.whl (58 kB)\n",
            "\u001b[2K     \u001b[90m━━━━━━━━━━━━━━━━━━━━━━━━━━━━━━━━━━━━━━━━\u001b[0m \u001b[32m58.8/58.8 kB\u001b[0m \u001b[31m2.0 MB/s\u001b[0m eta \u001b[36m0:00:00\u001b[0m\n",
            "\u001b[?25hCollecting boto3<2.0.0,>=1.26.136 (from Rasa)\n",
            "  Downloading boto3-1.28.20-py3-none-any.whl (135 kB)\n",
            "\u001b[2K     \u001b[90m━━━━━━━━━━━━━━━━━━━━━━━━━━━━━━━━━━━━━━━\u001b[0m \u001b[32m135.8/135.8 kB\u001b[0m \u001b[31m4.4 MB/s\u001b[0m eta \u001b[36m0:00:00\u001b[0m\n",
            "\u001b[?25hRequirement already satisfied: cloudpickle<2.3,>=1.2 in /usr/local/lib/python3.10/dist-packages (from Rasa) (2.2.1)\n",
            "Collecting colorclass<2.3,>=2.2 (from Rasa)\n",
            "  Downloading colorclass-2.2.2-py2.py3-none-any.whl (18 kB)\n",
            "Collecting coloredlogs<16,>=10 (from Rasa)\n",
            "  Downloading coloredlogs-15.0.1-py2.py3-none-any.whl (46 kB)\n",
            "\u001b[2K     \u001b[90m━━━━━━━━━━━━━━━━━━━━━━━━━━━━━━━━━━━━━━━━\u001b[0m \u001b[32m46.0/46.0 kB\u001b[0m \u001b[31m3.5 MB/s\u001b[0m eta \u001b[36m0:00:00\u001b[0m\n",
            "\u001b[?25hCollecting colorhash<1.3.0,>=1.0.2 (from Rasa)\n",
            "  Downloading colorhash-1.2.1-py3-none-any.whl (5.7 kB)\n",
            "Collecting confluent-kafka<3.0.0,>=1.9.2 (from Rasa)\n",
            "  Downloading confluent_kafka-2.2.0-cp310-cp310-manylinux_2_17_x86_64.manylinux2014_x86_64.whl (4.0 MB)\n",
            "\u001b[2K     \u001b[90m━━━━━━━━━━━━━━━━━━━━━━━━━━━━━━━━━━━━━━━━\u001b[0m \u001b[32m4.0/4.0 MB\u001b[0m \u001b[31m25.4 MB/s\u001b[0m eta \u001b[36m0:00:00\u001b[0m\n",
            "\u001b[?25hCollecting dask==2022.10.2 (from Rasa)\n",
            "  Downloading dask-2022.10.2-py3-none-any.whl (1.1 MB)\n",
            "\u001b[2K     \u001b[90m━━━━━━━━━━━━━━━━━━━━━━━━━━━━━━━━━━━━━━━━\u001b[0m \u001b[32m1.1/1.1 MB\u001b[0m \u001b[31m30.8 MB/s\u001b[0m eta \u001b[36m0:00:00\u001b[0m\n",
            "\u001b[?25hCollecting fbmessenger<6.1.0,>=6.0.0 (from Rasa)\n",
            "  Downloading fbmessenger-6.0.0-py2.py3-none-any.whl (11 kB)\n",
            "Requirement already satisfied: google-auth<3 in /usr/local/lib/python3.10/dist-packages (from Rasa) (2.17.3)\n",
            "Collecting joblib<1.3.0,>=0.15.1 (from Rasa)\n",
            "  Downloading joblib-1.2.0-py3-none-any.whl (297 kB)\n",
            "\u001b[2K     \u001b[90m━━━━━━━━━━━━━━━━━━━━━━━━━━━━━━━━━━━━━━\u001b[0m \u001b[32m298.0/298.0 kB\u001b[0m \u001b[31m13.1 MB/s\u001b[0m eta \u001b[36m0:00:00\u001b[0m\n",
            "\u001b[?25hRequirement already satisfied: jsonpickle<3.1,>=1.3 in /usr/local/lib/python3.10/dist-packages (from Rasa) (3.0.1)\n",
            "Requirement already satisfied: jsonschema<4.18,>=3.2 in /usr/local/lib/python3.10/dist-packages (from Rasa) (4.3.3)\n",
            "Collecting matplotlib<3.6,>=3.1 (from Rasa)\n",
            "  Downloading matplotlib-3.5.3-cp310-cp310-manylinux_2_17_x86_64.manylinux2014_x86_64.whl (11.9 MB)\n",
            "\u001b[2K     \u001b[90m━━━━━━━━━━━━━━━━━━━━━━━━━━━━━━━━━━━━━━━━\u001b[0m \u001b[32m11.9/11.9 MB\u001b[0m \u001b[31m30.4 MB/s\u001b[0m eta \u001b[36m0:00:00\u001b[0m\n",
            "\u001b[?25hCollecting mattermostwrapper<2.3,>=2.2 (from Rasa)\n",
            "  Downloading mattermostwrapper-2.2.tar.gz (2.5 kB)\n",
            "  Preparing metadata (setup.py) ... \u001b[?25l\u001b[?25hdone\n",
            "Collecting networkx<2.7,>=2.4 (from Rasa)\n",
            "  Downloading networkx-2.6.3-py3-none-any.whl (1.9 MB)\n",
            "\u001b[2K     \u001b[90m━━━━━━━━━━━━━━━━━━━━━━━━━━━━━━━━━━━━━━━━\u001b[0m \u001b[32m1.9/1.9 MB\u001b[0m \u001b[31m42.0 MB/s\u001b[0m eta \u001b[36m0:00:00\u001b[0m\n",
            "\u001b[?25hRequirement already satisfied: numpy<1.25.0,>=1.19.2 in /usr/local/lib/python3.10/dist-packages (from Rasa) (1.22.4)\n",
            "Collecting packaging<21.0,>=20.0 (from Rasa)\n",
            "  Downloading packaging-20.9-py2.py3-none-any.whl (40 kB)\n",
            "\u001b[2K     \u001b[90m━━━━━━━━━━━━━━━━━━━━━━━━━━━━━━━━━━━━━━━━\u001b[0m \u001b[32m40.9/40.9 kB\u001b[0m \u001b[31m2.3 MB/s\u001b[0m eta \u001b[36m0:00:00\u001b[0m\n",
            "\u001b[?25hRequirement already satisfied: pluggy<2.0.0,>=1.0.0 in /usr/local/lib/python3.10/dist-packages (from Rasa) (1.2.0)\n",
            "Collecting portalocker<3.0.0,>=2.7.0 (from Rasa)\n",
            "  Downloading portalocker-2.7.0-py2.py3-none-any.whl (15 kB)\n",
            "Collecting prompt-toolkit<3.0.29,>=3.0 (from Rasa)\n",
            "  Downloading prompt_toolkit-3.0.28-py3-none-any.whl (380 kB)\n",
            "\u001b[2K     \u001b[90m━━━━━━━━━━━━━━━━━━━━━━━━━━━━━━━━━━━━━━\u001b[0m \u001b[32m380.2/380.2 kB\u001b[0m \u001b[31m22.0 MB/s\u001b[0m eta \u001b[36m0:00:00\u001b[0m\n",
            "\u001b[?25hCollecting protobuf<4.23.4,>=4.23.3 (from Rasa)\n",
            "  Downloading protobuf-4.23.3-cp37-abi3-manylinux2014_x86_64.whl (304 kB)\n",
            "\u001b[2K     \u001b[90m━━━━━━━━━━━━━━━━━━━━━━━━━━━━━━━━━━━━━━\u001b[0m \u001b[32m304.5/304.5 kB\u001b[0m \u001b[31m12.8 MB/s\u001b[0m eta \u001b[36m0:00:00\u001b[0m\n",
            "\u001b[?25hCollecting psycopg2-binary<2.10.0,>=2.8.2 (from Rasa)\n",
            "  Downloading psycopg2_binary-2.9.7-cp310-cp310-manylinux_2_17_x86_64.manylinux2014_x86_64.whl (3.0 MB)\n",
            "\u001b[2K     \u001b[90m━━━━━━━━━━━━━━━━━━━━━━━━━━━━━━━━━━━━━━━━\u001b[0m \u001b[32m3.0/3.0 MB\u001b[0m \u001b[31m61.1 MB/s\u001b[0m eta \u001b[36m0:00:00\u001b[0m\n",
            "\u001b[?25hCollecting pydantic<1.10.10 (from Rasa)\n",
            "  Downloading pydantic-1.10.9-cp310-cp310-manylinux_2_17_x86_64.manylinux2014_x86_64.whl (3.1 MB)\n",
            "\u001b[2K     \u001b[90m━━━━━━━━━━━━━━━━━━━━━━━━━━━━━━━━━━━━━━━━\u001b[0m \u001b[32m3.1/3.1 MB\u001b[0m \u001b[31m69.0 MB/s\u001b[0m eta \u001b[36m0:00:00\u001b[0m\n",
            "\u001b[?25hRequirement already satisfied: pydot<1.5,>=1.4 in /usr/local/lib/python3.10/dist-packages (from Rasa) (1.4.2)\n",
            "Collecting pykwalify<1.9,>=1.7 (from Rasa)\n",
            "  Downloading pykwalify-1.8.0-py2.py3-none-any.whl (24 kB)\n",
            "Collecting pymongo[srv,tls]<4.4,>=3.8 (from Rasa)\n",
            "  Downloading pymongo-4.3.3-cp310-cp310-manylinux_2_17_x86_64.manylinux2014_x86_64.whl (492 kB)\n",
            "\u001b[2K     \u001b[90m━━━━━━━━━━━━━━━━━━━━━━━━━━━━━━━━━━━━━━\u001b[0m \u001b[32m492.9/492.9 kB\u001b[0m \u001b[31m40.9 MB/s\u001b[0m eta \u001b[36m0:00:00\u001b[0m\n",
            "\u001b[?25hRequirement already satisfied: python-dateutil<2.9,>=2.8 in /usr/local/lib/python3.10/dist-packages (from Rasa) (2.8.2)\n",
            "Collecting python-engineio!=5.0.0,<6,>=4 (from Rasa)\n",
            "  Downloading python_engineio-4.5.1-py3-none-any.whl (53 kB)\n",
            "\u001b[2K     \u001b[90m━━━━━━━━━━━━━━━━━━━━━━━━━━━━━━━━━━━━━━━━\u001b[0m \u001b[32m53.5/53.5 kB\u001b[0m \u001b[31m6.2 MB/s\u001b[0m eta \u001b[36m0:00:00\u001b[0m\n",
            "\u001b[?25hCollecting python-socketio<6,>=4.4 (from Rasa)\n",
            "  Downloading python_socketio-5.8.0-py3-none-any.whl (56 kB)\n",
            "\u001b[2K     \u001b[90m━━━━━━━━━━━━━━━━━━━━━━━━━━━━━━━━━━━━━━━━\u001b[0m \u001b[32m57.0/57.0 kB\u001b[0m \u001b[31m4.4 MB/s\u001b[0m eta \u001b[36m0:00:00\u001b[0m\n",
            "\u001b[?25hRequirement already satisfied: pytz<2023.0,>=2019.1 in /usr/local/lib/python3.10/dist-packages (from Rasa) (2022.7.1)\n",
            "Requirement already satisfied: pyyaml>=6.0 in /usr/local/lib/python3.10/dist-packages (from Rasa) (6.0.1)\n",
            "Collecting questionary<1.11.0,>=1.5.1 (from Rasa)\n",
            "  Downloading questionary-1.10.0-py3-none-any.whl (31 kB)\n",
            "Collecting randomname<0.2.0,>=0.1.5 (from Rasa)\n",
            "  Downloading randomname-0.1.5.tar.gz (36 kB)\n",
            "  Preparing metadata (setup.py) ... \u001b[?25l\u001b[?25hdone\n",
            "Collecting rasa-sdk<3.7.0,>=3.6.1 (from Rasa)\n",
            "  Downloading rasa_sdk-3.6.1-py3-none-any.whl (45 kB)\n",
            "\u001b[2K     \u001b[90m━━━━━━━━━━━━━━━━━━━━━━━━━━━━━━━━━━━━━━━━\u001b[0m \u001b[32m45.3/45.3 kB\u001b[0m \u001b[31m5.1 MB/s\u001b[0m eta \u001b[36m0:00:00\u001b[0m\n",
            "\u001b[?25hCollecting redis<5.0,>=4.5.3 (from Rasa)\n",
            "  Downloading redis-4.6.0-py3-none-any.whl (241 kB)\n",
            "\u001b[2K     \u001b[90m━━━━━━━━━━━━━━━━━━━━━━━━━━━━━━━━━━━━━━\u001b[0m \u001b[32m241.1/241.1 kB\u001b[0m \u001b[31m27.2 MB/s\u001b[0m eta \u001b[36m0:00:00\u001b[0m\n",
            "\u001b[?25hRequirement already satisfied: regex<2022.11,>=2020.6 in /usr/local/lib/python3.10/dist-packages (from Rasa) (2022.10.31)\n",
            "Requirement already satisfied: requests<3.0,>=2.23 in /usr/local/lib/python3.10/dist-packages (from Rasa) (2.27.1)\n",
            "Collecting rocketchat_API<1.31.0,>=0.6.31 (from Rasa)\n",
            "  Downloading rocketchat_API-1.30.0-py3-none-any.whl (21 kB)\n",
            "Collecting ruamel.yaml<0.17.22,>=0.16.5 (from Rasa)\n",
            "  Downloading ruamel.yaml-0.17.21-py3-none-any.whl (109 kB)\n",
            "\u001b[2K     \u001b[90m━━━━━━━━━━━━━━━━━━━━━━━━━━━━━━━━━━━━━━\u001b[0m \u001b[32m109.5/109.5 kB\u001b[0m \u001b[31m10.0 MB/s\u001b[0m eta \u001b[36m0:00:00\u001b[0m\n",
            "\u001b[?25hCollecting sanic<21.13,>=21.12 (from Rasa)\n",
            "  Downloading sanic-21.12.2-py3-none-any.whl (156 kB)\n",
            "\u001b[2K     \u001b[90m━━━━━━━━━━━━━━━━━━━━━━━━━━━━━━━━━━━━━━\u001b[0m \u001b[32m156.5/156.5 kB\u001b[0m \u001b[31m16.1 MB/s\u001b[0m eta \u001b[36m0:00:00\u001b[0m\n",
            "\u001b[?25hCollecting sanic-cors<2.1.0,>=2.0.0 (from Rasa)\n",
            "  Downloading Sanic_Cors-2.0.1-py2.py3-none-any.whl (17 kB)\n",
            "Collecting sanic-jwt<2.0.0,>=1.6.0 (from Rasa)\n",
            "  Downloading sanic_jwt-1.8.0-py3-none-any.whl (23 kB)\n",
            "Collecting sanic-routing<0.8.0,>=0.7.2 (from Rasa)\n",
            "  Downloading sanic_routing-0.7.2-py3-none-any.whl (23 kB)\n",
            "Collecting scikit-learn<1.2,>=0.22 (from Rasa)\n",
            "  Downloading scikit_learn-1.1.3-cp310-cp310-manylinux_2_17_x86_64.manylinux2014_x86_64.whl (30.5 MB)\n",
            "\u001b[2K     \u001b[90m━━━━━━━━━━━━━━━━━━━━━━━━━━━━━━━━━━━━━━━━\u001b[0m \u001b[32m30.5/30.5 MB\u001b[0m \u001b[31m30.6 MB/s\u001b[0m eta \u001b[36m0:00:00\u001b[0m\n",
            "\u001b[?25hCollecting scipy<1.9.0,>=1.4.1 (from Rasa)\n",
            "  Downloading scipy-1.8.1-cp310-cp310-manylinux_2_17_x86_64.manylinux2014_x86_64.whl (42.2 MB)\n",
            "\u001b[2K     \u001b[90m━━━━━━━━━━━━━━━━━━━━━━━━━━━━━━━━━━━━━━━━\u001b[0m \u001b[32m42.2/42.2 MB\u001b[0m \u001b[31m15.7 MB/s\u001b[0m eta \u001b[36m0:00:00\u001b[0m\n",
            "\u001b[?25hCollecting sentry-sdk<1.15.0,>=0.17.0 (from Rasa)\n",
            "  Downloading sentry_sdk-1.14.0-py2.py3-none-any.whl (178 kB)\n",
            "\u001b[2K     \u001b[90m━━━━━━━━━━━━━━━━━━━━━━━━━━━━━━━━━━━━━━\u001b[0m \u001b[32m178.9/178.9 kB\u001b[0m \u001b[31m16.9 MB/s\u001b[0m eta \u001b[36m0:00:00\u001b[0m\n",
            "\u001b[?25hRequirement already satisfied: setuptools>=41.0.0 in /usr/local/lib/python3.10/dist-packages (from Rasa) (67.7.2)\n",
            "Collecting sklearn-crfsuite<0.4,>=0.3 (from Rasa)\n",
            "  Downloading sklearn_crfsuite-0.3.6-py2.py3-none-any.whl (12 kB)\n",
            "Collecting slack-sdk<4.0.0,>=3.19.2 (from Rasa)\n",
            "  Downloading slack_sdk-3.21.3-py2.py3-none-any.whl (276 kB)\n",
            "\u001b[2K     \u001b[90m━━━━━━━━━━━━━━━━━━━━━━━━━━━━━━━━━━━━━━\u001b[0m \u001b[32m276.5/276.5 kB\u001b[0m \u001b[31m24.3 MB/s\u001b[0m eta \u001b[36m0:00:00\u001b[0m\n",
            "\u001b[?25hCollecting structlog<24.0.0,>=23.1.0 (from Rasa)\n",
            "  Downloading structlog-23.1.0-py3-none-any.whl (62 kB)\n",
            "\u001b[2K     \u001b[90m━━━━━━━━━━━━━━━━━━━━━━━━━━━━━━━━━━━━━━━━\u001b[0m \u001b[32m62.4/62.4 kB\u001b[0m \u001b[31m6.8 MB/s\u001b[0m eta \u001b[36m0:00:00\u001b[0m\n",
            "\u001b[?25hCollecting structlog-sentry<3.0.0,>=2.0.2 (from Rasa)\n",
            "  Downloading structlog_sentry-2.0.3-py3-none-any.whl (10 kB)\n",
            "Collecting tarsafe<0.0.5,>=0.0.3 (from Rasa)\n",
            "  Downloading tarsafe-0.0.4-py3-none-any.whl (5.3 kB)\n",
            "Requirement already satisfied: tensorflow==2.12.0 in /usr/local/lib/python3.10/dist-packages (from Rasa) (2.12.0)\n",
            "Requirement already satisfied: tensorflow-io-gcs-filesystem==0.32 in /usr/local/lib/python3.10/dist-packages (from Rasa) (0.32.0)\n",
            "Collecting tensorflow-text==2.12.0 (from Rasa)\n",
            "  Downloading tensorflow_text-2.12.0-cp310-cp310-manylinux_2_17_x86_64.manylinux2014_x86_64.whl (6.0 MB)\n",
            "\u001b[2K     \u001b[90m━━━━━━━━━━━━━━━━━━━━━━━━━━━━━━━━━━━━━━━━\u001b[0m \u001b[32m6.0/6.0 MB\u001b[0m \u001b[31m33.1 MB/s\u001b[0m eta \u001b[36m0:00:00\u001b[0m\n",
            "\u001b[?25hCollecting tensorflow_hub<0.14.0,>=0.13.0 (from Rasa)\n",
            "  Downloading tensorflow_hub-0.13.0-py2.py3-none-any.whl (100 kB)\n",
            "\u001b[2K     \u001b[90m━━━━━━━━━━━━━━━━━━━━━━━━━━━━━━━━━━━━━━\u001b[0m \u001b[32m100.6/100.6 kB\u001b[0m \u001b[31m11.6 MB/s\u001b[0m eta \u001b[36m0:00:00\u001b[0m\n",
            "\u001b[?25hCollecting terminaltables<3.2.0,>=3.1.0 (from Rasa)\n",
            "  Downloading terminaltables-3.1.10-py2.py3-none-any.whl (15 kB)\n",
            "Requirement already satisfied: tqdm<5.0,>=4.31 in /usr/local/lib/python3.10/dist-packages (from Rasa) (4.65.0)\n",
            "Collecting twilio<8.3,>=6.26 (from Rasa)\n",
            "  Downloading twilio-8.2.2-py2.py3-none-any.whl (1.7 MB)\n",
            "\u001b[2K     \u001b[90m━━━━━━━━━━━━━━━━━━━━━━━━━━━━━━━━━━━━━━━━\u001b[0m \u001b[32m1.7/1.7 MB\u001b[0m \u001b[31m78.0 MB/s\u001b[0m eta \u001b[36m0:00:00\u001b[0m\n",
            "\u001b[?25hRequirement already satisfied: typing-extensions<5.0.0,>=4.1.1 in /usr/local/lib/python3.10/dist-packages (from Rasa) (4.7.1)\n",
            "Collecting typing-utils<0.2.0,>=0.1.0 (from Rasa)\n",
            "  Downloading typing_utils-0.1.0-py3-none-any.whl (10 kB)\n",
            "Collecting ujson<6.0,>=1.35 (from Rasa)\n",
            "  Downloading ujson-5.8.0-cp310-cp310-manylinux_2_17_x86_64.manylinux2014_x86_64.whl (53 kB)\n",
            "\u001b[2K     \u001b[90m━━━━━━━━━━━━━━━━━━━━━━━━━━━━━━━━━━━━━━━━\u001b[0m \u001b[32m53.9/53.9 kB\u001b[0m \u001b[31m5.9 MB/s\u001b[0m eta \u001b[36m0:00:00\u001b[0m\n",
            "\u001b[?25hCollecting webexteamssdk<1.7.0,>=1.1.1 (from Rasa)\n",
            "  Downloading webexteamssdk-1.6.1-py3-none-any.whl (113 kB)\n",
            "\u001b[2K     \u001b[90m━━━━━━━━━━━━━━━━━━━━━━━━━━━━━━━━━━━━━━\u001b[0m \u001b[32m113.5/113.5 kB\u001b[0m \u001b[31m11.8 MB/s\u001b[0m eta \u001b[36m0:00:00\u001b[0m\n",
            "\u001b[?25hCollecting websockets<11.0,>=10.0 (from Rasa)\n",
            "  Downloading websockets-10.4-cp310-cp310-manylinux_2_5_x86_64.manylinux1_x86_64.manylinux_2_17_x86_64.manylinux2014_x86_64.whl (106 kB)\n",
            "\u001b[2K     \u001b[90m━━━━━━━━━━━━━━━━━━━━━━━━━━━━━━━━━━━━━━\u001b[0m \u001b[32m106.8/106.8 kB\u001b[0m \u001b[31m11.5 MB/s\u001b[0m eta \u001b[36m0:00:00\u001b[0m\n",
            "\u001b[?25hRequirement already satisfied: click>=7.0 in /usr/local/lib/python3.10/dist-packages (from dask==2022.10.2->Rasa) (8.1.6)\n",
            "Requirement already satisfied: fsspec>=0.6.0 in /usr/local/lib/python3.10/dist-packages (from dask==2022.10.2->Rasa) (2023.6.0)\n",
            "Requirement already satisfied: partd>=0.3.10 in /usr/local/lib/python3.10/dist-packages (from dask==2022.10.2->Rasa) (1.4.0)\n",
            "Requirement already satisfied: toolz>=0.8.2 in /usr/local/lib/python3.10/dist-packages (from dask==2022.10.2->Rasa) (0.12.0)\n",
            "Requirement already satisfied: astunparse>=1.6.0 in /usr/local/lib/python3.10/dist-packages (from tensorflow==2.12.0->Rasa) (1.6.3)\n",
            "Requirement already satisfied: flatbuffers>=2.0 in /usr/local/lib/python3.10/dist-packages (from tensorflow==2.12.0->Rasa) (23.5.26)\n",
            "Requirement already satisfied: gast<=0.4.0,>=0.2.1 in /usr/local/lib/python3.10/dist-packages (from tensorflow==2.12.0->Rasa) (0.4.0)\n",
            "Requirement already satisfied: google-pasta>=0.1.1 in /usr/local/lib/python3.10/dist-packages (from tensorflow==2.12.0->Rasa) (0.2.0)\n",
            "Requirement already satisfied: grpcio<2.0,>=1.24.3 in /usr/local/lib/python3.10/dist-packages (from tensorflow==2.12.0->Rasa) (1.56.2)\n",
            "Requirement already satisfied: h5py>=2.9.0 in /usr/local/lib/python3.10/dist-packages (from tensorflow==2.12.0->Rasa) (3.8.0)\n",
            "Requirement already satisfied: jax>=0.3.15 in /usr/local/lib/python3.10/dist-packages (from tensorflow==2.12.0->Rasa) (0.4.13)\n",
            "Requirement already satisfied: keras<2.13,>=2.12.0 in /usr/local/lib/python3.10/dist-packages (from tensorflow==2.12.0->Rasa) (2.12.0)\n",
            "Requirement already satisfied: libclang>=13.0.0 in /usr/local/lib/python3.10/dist-packages (from tensorflow==2.12.0->Rasa) (16.0.6)\n",
            "Requirement already satisfied: opt-einsum>=2.3.2 in /usr/local/lib/python3.10/dist-packages (from tensorflow==2.12.0->Rasa) (3.3.0)\n",
            "Requirement already satisfied: six>=1.12.0 in /usr/local/lib/python3.10/dist-packages (from tensorflow==2.12.0->Rasa) (1.16.0)\n",
            "Requirement already satisfied: tensorboard<2.13,>=2.12 in /usr/local/lib/python3.10/dist-packages (from tensorflow==2.12.0->Rasa) (2.12.3)\n",
            "Requirement already satisfied: tensorflow-estimator<2.13,>=2.12.0 in /usr/local/lib/python3.10/dist-packages (from tensorflow==2.12.0->Rasa) (2.12.0)\n",
            "Requirement already satisfied: termcolor>=1.1.0 in /usr/local/lib/python3.10/dist-packages (from tensorflow==2.12.0->Rasa) (2.3.0)\n",
            "Requirement already satisfied: wrapt<1.15,>=1.11.0 in /usr/local/lib/python3.10/dist-packages (from tensorflow==2.12.0->Rasa) (1.14.1)\n",
            "Collecting aiormq~=6.4.0 (from aio-pika<8.2.4,>=6.7.1->Rasa)\n",
            "  Downloading aiormq-6.4.2-py3-none-any.whl (34 kB)\n",
            "Requirement already satisfied: yarl in /usr/local/lib/python3.10/dist-packages (from aio-pika<8.2.4,>=6.7.1->Rasa) (1.9.2)\n",
            "Collecting Babel<2.10.0,>=2.9.1 (from aiogram<2.26->Rasa)\n",
            "  Downloading Babel-2.9.1-py2.py3-none-any.whl (8.8 MB)\n",
            "\u001b[2K     \u001b[90m━━━━━━━━━━━━━━━━━━━━━━━━━━━━━━━━━━━━━━━━\u001b[0m \u001b[32m8.8/8.8 MB\u001b[0m \u001b[31m96.4 MB/s\u001b[0m eta \u001b[36m0:00:00\u001b[0m\n",
            "\u001b[?25hRequirement already satisfied: certifi>=2021.10.8 in /usr/local/lib/python3.10/dist-packages (from aiogram<2.26->Rasa) (2023.7.22)\n",
            "Collecting magic-filter>=1.0.9 (from aiogram<2.26->Rasa)\n",
            "  Downloading magic_filter-1.0.11-py3-none-any.whl (11 kB)\n",
            "Requirement already satisfied: charset-normalizer<4.0,>=2.0 in /usr/local/lib/python3.10/dist-packages (from aiohttp!=3.7.4.post0,<3.9,>=3.6->Rasa) (2.0.12)\n",
            "Requirement already satisfied: multidict<7.0,>=4.5 in /usr/local/lib/python3.10/dist-packages (from aiohttp!=3.7.4.post0,<3.9,>=3.6->Rasa) (6.0.4)\n",
            "Requirement already satisfied: async-timeout<5.0,>=4.0.0a3 in /usr/local/lib/python3.10/dist-packages (from aiohttp!=3.7.4.post0,<3.9,>=3.6->Rasa) (4.0.2)\n",
            "Requirement already satisfied: frozenlist>=1.1.1 in /usr/local/lib/python3.10/dist-packages (from aiohttp!=3.7.4.post0,<3.9,>=3.6->Rasa) (1.4.0)\n",
            "Requirement already satisfied: aiosignal>=1.1.2 in /usr/local/lib/python3.10/dist-packages (from aiohttp!=3.7.4.post0,<3.9,>=3.6->Rasa) (1.3.1)\n",
            "Requirement already satisfied: tzlocal!=3.*,>=2.0 in /usr/local/lib/python3.10/dist-packages (from apscheduler<3.10,>=3.6->Rasa) (5.0.1)\n",
            "Collecting botocore<1.32.0,>=1.31.20 (from boto3<2.0.0,>=1.26.136->Rasa)\n",
            "  Downloading botocore-1.31.20-py3-none-any.whl (11.1 MB)\n",
            "\u001b[2K     \u001b[90m━━━━━━━━━━━━━━━━━━━━━━━━━━━━━━━━━━━━━━━━\u001b[0m \u001b[32m11.1/11.1 MB\u001b[0m \u001b[31m58.7 MB/s\u001b[0m eta \u001b[36m0:00:00\u001b[0m\n",
            "\u001b[?25hCollecting jmespath<2.0.0,>=0.7.1 (from boto3<2.0.0,>=1.26.136->Rasa)\n",
            "  Downloading jmespath-1.0.1-py3-none-any.whl (20 kB)\n",
            "Collecting s3transfer<0.7.0,>=0.6.0 (from boto3<2.0.0,>=1.26.136->Rasa)\n",
            "  Downloading s3transfer-0.6.1-py3-none-any.whl (79 kB)\n",
            "\u001b[2K     \u001b[90m━━━━━━━━━━━━━━━━━━━━━━━━━━━━━━━━━━━━━━━━\u001b[0m \u001b[32m79.8/79.8 kB\u001b[0m \u001b[31m8.5 MB/s\u001b[0m eta \u001b[36m0:00:00\u001b[0m\n",
            "\u001b[?25hRequirement already satisfied: msgpack>=0.5.2 in /usr/local/lib/python3.10/dist-packages (from CacheControl<0.13.0,>=0.12.9->Rasa) (1.0.5)\n",
            "Collecting humanfriendly>=9.1 (from coloredlogs<16,>=10->Rasa)\n",
            "  Downloading humanfriendly-10.0-py2.py3-none-any.whl (86 kB)\n",
            "\u001b[2K     \u001b[90m━━━━━━━━━━━━━━━━━━━━━━━━━━━━━━━━━━━━━━━━\u001b[0m \u001b[32m86.8/86.8 kB\u001b[0m \u001b[31m9.6 MB/s\u001b[0m eta \u001b[36m0:00:00\u001b[0m\n",
            "\u001b[?25hRequirement already satisfied: cachetools<6.0,>=2.0.0 in /usr/local/lib/python3.10/dist-packages (from google-auth<3->Rasa) (5.3.1)\n",
            "Requirement already satisfied: pyasn1-modules>=0.2.1 in /usr/local/lib/python3.10/dist-packages (from google-auth<3->Rasa) (0.3.0)\n",
            "Requirement already satisfied: rsa<5,>=3.1.4 in /usr/local/lib/python3.10/dist-packages (from google-auth<3->Rasa) (4.9)\n",
            "Requirement already satisfied: pyrsistent!=0.17.0,!=0.17.1,!=0.17.2,>=0.14.0 in /usr/local/lib/python3.10/dist-packages (from jsonschema<4.18,>=3.2->Rasa) (0.19.3)\n",
            "Requirement already satisfied: cycler>=0.10 in /usr/local/lib/python3.10/dist-packages (from matplotlib<3.6,>=3.1->Rasa) (0.11.0)\n",
            "Requirement already satisfied: fonttools>=4.22.0 in /usr/local/lib/python3.10/dist-packages (from matplotlib<3.6,>=3.1->Rasa) (4.41.1)\n",
            "Requirement already satisfied: kiwisolver>=1.0.1 in /usr/local/lib/python3.10/dist-packages (from matplotlib<3.6,>=3.1->Rasa) (1.4.4)\n",
            "Requirement already satisfied: pillow>=6.2.0 in /usr/local/lib/python3.10/dist-packages (from matplotlib<3.6,>=3.1->Rasa) (9.4.0)\n",
            "Requirement already satisfied: pyparsing>=2.2.1 in /usr/local/lib/python3.10/dist-packages (from matplotlib<3.6,>=3.1->Rasa) (3.1.0)\n",
            "Requirement already satisfied: wcwidth in /usr/local/lib/python3.10/dist-packages (from prompt-toolkit<3.0.29,>=3.0->Rasa) (0.2.6)\n",
            "Requirement already satisfied: cryptography>=3.3.1 in /usr/lib/python3/dist-packages (from PyJWT[crypto]<3.0.0,>=2.0.0->Rasa) (3.4.8)\n",
            "Collecting docopt>=0.6.2 (from pykwalify<1.9,>=1.7->Rasa)\n",
            "  Downloading docopt-0.6.2.tar.gz (25 kB)\n",
            "  Preparing metadata (setup.py) ... \u001b[?25l\u001b[?25hdone\n",
            "Collecting dnspython<3.0.0,>=1.16.0 (from pymongo[srv,tls]<4.4,>=3.8->Rasa)\n",
            "  Downloading dnspython-2.4.1-py3-none-any.whl (300 kB)\n",
            "\u001b[2K     \u001b[90m━━━━━━━━━━━━━━━━━━━━━━━━━━━━━━━━━━━━━━\u001b[0m \u001b[32m300.3/300.3 kB\u001b[0m \u001b[31m25.0 MB/s\u001b[0m eta \u001b[36m0:00:00\u001b[0m\n",
            "\u001b[?25hCollecting bidict>=0.21.0 (from python-socketio<6,>=4.4->Rasa)\n",
            "  Downloading bidict-0.22.1-py3-none-any.whl (35 kB)\n",
            "Collecting fire (from randomname<0.2.0,>=0.1.5->Rasa)\n",
            "  Downloading fire-0.5.0.tar.gz (88 kB)\n",
            "\u001b[2K     \u001b[90m━━━━━━━━━━━━━━━━━━━━━━━━━━━━━━━━━━━━━━━━\u001b[0m \u001b[32m88.3/88.3 kB\u001b[0m \u001b[31m8.9 MB/s\u001b[0m eta \u001b[36m0:00:00\u001b[0m\n",
            "\u001b[?25h  Preparing metadata (setup.py) ... \u001b[?25l\u001b[?25hdone\n",
            "Requirement already satisfied: urllib3<1.27,>=1.21.1 in /usr/local/lib/python3.10/dist-packages (from requests<3.0,>=2.23->Rasa) (1.26.16)\n",
            "Requirement already satisfied: idna<4,>=2.5 in /usr/local/lib/python3.10/dist-packages (from requests<3.0,>=2.23->Rasa) (3.4)\n",
            "Collecting ruamel.yaml.clib>=0.2.6 (from ruamel.yaml<0.17.22,>=0.16.5->Rasa)\n",
            "  Downloading ruamel.yaml.clib-0.2.7-cp310-cp310-manylinux_2_17_x86_64.manylinux2014_x86_64.manylinux_2_24_x86_64.whl (485 kB)\n",
            "\u001b[2K     \u001b[90m━━━━━━━━━━━━━━━━━━━━━━━━━━━━━━━━━━━━━━\u001b[0m \u001b[32m485.6/485.6 kB\u001b[0m \u001b[31m39.1 MB/s\u001b[0m eta \u001b[36m0:00:00\u001b[0m\n",
            "\u001b[?25hCollecting httptools>=0.0.10 (from sanic<21.13,>=21.12->Rasa)\n",
            "  Downloading httptools-0.6.0-cp310-cp310-manylinux_2_5_x86_64.manylinux1_x86_64.manylinux_2_17_x86_64.manylinux2014_x86_64.whl (428 kB)\n",
            "\u001b[2K     \u001b[90m━━━━━━━━━━━━━━━━━━━━━━━━━━━━━━━━━━━━━━\u001b[0m \u001b[32m428.8/428.8 kB\u001b[0m \u001b[31m33.6 MB/s\u001b[0m eta \u001b[36m0:00:00\u001b[0m\n",
            "\u001b[?25hCollecting aiofiles>=0.6.0 (from sanic<21.13,>=21.12->Rasa)\n",
            "  Downloading aiofiles-23.1.0-py3-none-any.whl (14 kB)\n",
            "Collecting multidict<7.0,>=4.5 (from aiohttp!=3.7.4.post0,<3.9,>=3.6->Rasa)\n",
            "  Downloading multidict-5.2.0-cp310-cp310-manylinux_2_5_x86_64.manylinux1_x86_64.manylinux_2_12_x86_64.manylinux2010_x86_64.whl (175 kB)\n",
            "\u001b[2K     \u001b[90m━━━━━━━━━━━━━━━━━━━━━━━━━━━━━━━━━━━━━━\u001b[0m \u001b[32m175.1/175.1 kB\u001b[0m \u001b[31m19.8 MB/s\u001b[0m eta \u001b[36m0:00:00\u001b[0m\n",
            "\u001b[?25hCollecting uvloop>=0.5.3 (from sanic<21.13,>=21.12->Rasa)\n",
            "  Downloading uvloop-0.17.0-cp310-cp310-manylinux_2_17_x86_64.manylinux2014_x86_64.whl (4.1 MB)\n",
            "\u001b[2K     \u001b[90m━━━━━━━━━━━━━━━━━━━━━━━━━━━━━━━━━━━━━━━━\u001b[0m \u001b[32m4.1/4.1 MB\u001b[0m \u001b[31m96.3 MB/s\u001b[0m eta \u001b[36m0:00:00\u001b[0m\n",
            "\u001b[?25hRequirement already satisfied: threadpoolctl>=2.0.0 in /usr/local/lib/python3.10/dist-packages (from scikit-learn<1.2,>=0.22->Rasa) (3.2.0)\n",
            "Collecting python-crfsuite>=0.8.3 (from sklearn-crfsuite<0.4,>=0.3->Rasa)\n",
            "  Downloading python_crfsuite-0.9.9-cp310-cp310-manylinux_2_17_x86_64.manylinux2014_x86_64.whl (993 kB)\n",
            "\u001b[2K     \u001b[90m━━━━━━━━━━━━━━━━━━━━━━━━━━━━━━━━━━━━━━\u001b[0m \u001b[32m993.5/993.5 kB\u001b[0m \u001b[31m65.2 MB/s\u001b[0m eta \u001b[36m0:00:00\u001b[0m\n",
            "\u001b[?25hRequirement already satisfied: tabulate in /usr/local/lib/python3.10/dist-packages (from sklearn-crfsuite<0.4,>=0.3->Rasa) (0.9.0)\n",
            "Requirement already satisfied: greenlet!=0.4.17 in /usr/local/lib/python3.10/dist-packages (from SQLAlchemy<1.5.0,>=1.4.0->Rasa) (2.0.2)\n",
            "Collecting aiohttp-retry>=2.8.3 (from twilio<8.3,>=6.26->Rasa)\n",
            "  Downloading aiohttp_retry-2.8.3-py3-none-any.whl (9.8 kB)\n",
            "Requirement already satisfied: future in /usr/local/lib/python3.10/dist-packages (from webexteamssdk<1.7.0,>=1.1.1->Rasa) (0.18.3)\n",
            "Collecting requests-toolbelt (from webexteamssdk<1.7.0,>=1.1.1->Rasa)\n",
            "  Downloading requests_toolbelt-1.0.0-py2.py3-none-any.whl (54 kB)\n",
            "\u001b[2K     \u001b[90m━━━━━━━━━━━━━━━━━━━━━━━━━━━━━━━━━━━━━━━━\u001b[0m \u001b[32m54.5/54.5 kB\u001b[0m \u001b[31m4.7 MB/s\u001b[0m eta \u001b[36m0:00:00\u001b[0m\n",
            "\u001b[?25hCollecting pamqp==3.2.1 (from aiormq~=6.4.0->aio-pika<8.2.4,>=6.7.1->Rasa)\n",
            "  Downloading pamqp-3.2.1-py2.py3-none-any.whl (33 kB)\n",
            "Requirement already satisfied: wheel<1.0,>=0.23.0 in /usr/local/lib/python3.10/dist-packages (from astunparse>=1.6.0->tensorflow==2.12.0->Rasa) (0.41.0)\n",
            "Requirement already satisfied: ml-dtypes>=0.1.0 in /usr/local/lib/python3.10/dist-packages (from jax>=0.3.15->tensorflow==2.12.0->Rasa) (0.2.0)\n",
            "Requirement already satisfied: locket in /usr/local/lib/python3.10/dist-packages (from partd>=0.3.10->dask==2022.10.2->Rasa) (1.0.0)\n",
            "Requirement already satisfied: pyasn1<0.6.0,>=0.4.6 in /usr/local/lib/python3.10/dist-packages (from pyasn1-modules>=0.2.1->google-auth<3->Rasa) (0.5.0)\n",
            "Requirement already satisfied: google-auth-oauthlib<1.1,>=0.5 in /usr/local/lib/python3.10/dist-packages (from tensorboard<2.13,>=2.12->tensorflow==2.12.0->Rasa) (1.0.0)\n",
            "Requirement already satisfied: markdown>=2.6.8 in /usr/local/lib/python3.10/dist-packages (from tensorboard<2.13,>=2.12->tensorflow==2.12.0->Rasa) (3.4.4)\n",
            "Requirement already satisfied: tensorboard-data-server<0.8.0,>=0.7.0 in /usr/local/lib/python3.10/dist-packages (from tensorboard<2.13,>=2.12->tensorflow==2.12.0->Rasa) (0.7.1)\n",
            "Requirement already satisfied: werkzeug>=1.0.1 in /usr/local/lib/python3.10/dist-packages (from tensorboard<2.13,>=2.12->tensorflow==2.12.0->Rasa) (2.3.6)\n",
            "Requirement already satisfied: requests-oauthlib>=0.7.0 in /usr/local/lib/python3.10/dist-packages (from google-auth-oauthlib<1.1,>=0.5->tensorboard<2.13,>=2.12->tensorflow==2.12.0->Rasa) (1.3.1)\n",
            "Requirement already satisfied: MarkupSafe>=2.1.1 in /usr/local/lib/python3.10/dist-packages (from werkzeug>=1.0.1->tensorboard<2.13,>=2.12->tensorflow==2.12.0->Rasa) (2.1.3)\n",
            "Requirement already satisfied: oauthlib>=3.0.0 in /usr/local/lib/python3.10/dist-packages (from requests-oauthlib>=0.7.0->google-auth-oauthlib<1.1,>=0.5->tensorboard<2.13,>=2.12->tensorflow==2.12.0->Rasa) (3.2.2)\n",
            "Building wheels for collected packages: mattermostwrapper, randomname, docopt, fire\n",
            "  Building wheel for mattermostwrapper (setup.py) ... \u001b[?25l\u001b[?25hdone\n",
            "  Created wheel for mattermostwrapper: filename=mattermostwrapper-2.2-py3-none-any.whl size=2447 sha256=a9b38aea9faa20debbe2375984084c2cd62e79e10242837ad0a97e831bb44cfc\n",
            "  Stored in directory: /root/.cache/pip/wheels/b2/dc/02/e3239f0ea0a676085826846d32ef09b10915c0a33c817d2dbb\n",
            "  Building wheel for randomname (setup.py) ... \u001b[?25l\u001b[?25hdone\n",
            "  Created wheel for randomname: filename=randomname-0.1.5-py3-none-any.whl size=58807 sha256=9ae8814b09600843b7bed637bd24ac60693c9964c5484e339fb6c4cdb16a8ba0\n",
            "  Stored in directory: /root/.cache/pip/wheels/ee/df/c1/0bdf17c694217f49657ca36fd0239b9a243c34c27a70ff56ef\n",
            "  Building wheel for docopt (setup.py) ... \u001b[?25l\u001b[?25hdone\n",
            "  Created wheel for docopt: filename=docopt-0.6.2-py2.py3-none-any.whl size=13705 sha256=423eb51e9b35305c490e939b86a56d7e80c24196f4b8a0eb296235abe31732fa\n",
            "  Stored in directory: /root/.cache/pip/wheels/fc/ab/d4/5da2067ac95b36618c629a5f93f809425700506f72c9732fac\n",
            "  Building wheel for fire (setup.py) ... \u001b[?25l\u001b[?25hdone\n",
            "  Created wheel for fire: filename=fire-0.5.0-py2.py3-none-any.whl size=116932 sha256=effd585badf283491e4431dd83851d35fb6d8ccdead446a25a8f7b8dec54bcda\n",
            "  Stored in directory: /root/.cache/pip/wheels/90/d4/f7/9404e5db0116bd4d43e5666eaa3e70ab53723e1e3ea40c9a95\n",
            "Successfully built mattermostwrapper randomname docopt fire\n",
            "Installing collected packages: sanic-routing, python-crfsuite, docopt, confluent-kafka, websockets, uvloop, ujson, typing-utils, terminaltables, tarsafe, structlog, SQLAlchemy, slack-sdk, sklearn-crfsuite, sentry-sdk, scipy, sanic-jwt, ruamel.yaml.clib, redis, python-engineio, pydantic, psycopg2-binary, protobuf, prompt-toolkit, portalocker, pamqp, packaging, networkx, multidict, magic-filter, joblib, jmespath, humanfriendly, httptools, fire, dnspython, colorhash, colorclass, bidict, Babel, attrs, apscheduler, aiofiles, tensorflow_hub, structlog-sentry, scikit-learn, sanic, ruamel.yaml, rocketchat_API, requests-toolbelt, randomname, questionary, python-socketio, pymongo, mattermostwrapper, matplotlib, fbmessenger, dask, coloredlogs, CacheControl, botocore, webexteamssdk, sanic-cors, s3transfer, pykwalify, aiormq, rasa-sdk, boto3, aiohttp-retry, aiogram, aio-pika, twilio, tensorflow-text, Rasa\n",
            "  Attempting uninstall: SQLAlchemy\n",
            "    Found existing installation: SQLAlchemy 2.0.19\n",
            "    Uninstalling SQLAlchemy-2.0.19:\n",
            "      Successfully uninstalled SQLAlchemy-2.0.19\n",
            "  Attempting uninstall: scipy\n",
            "    Found existing installation: scipy 1.10.1\n",
            "    Uninstalling scipy-1.10.1:\n",
            "      Successfully uninstalled scipy-1.10.1\n",
            "  Attempting uninstall: pydantic\n",
            "    Found existing installation: pydantic 1.10.12\n",
            "    Uninstalling pydantic-1.10.12:\n",
            "      Successfully uninstalled pydantic-1.10.12\n",
            "  Attempting uninstall: protobuf\n",
            "    Found existing installation: protobuf 3.20.3\n",
            "    Uninstalling protobuf-3.20.3:\n",
            "      Successfully uninstalled protobuf-3.20.3\n",
            "  Attempting uninstall: prompt-toolkit\n",
            "    Found existing installation: prompt-toolkit 3.0.39\n",
            "    Uninstalling prompt-toolkit-3.0.39:\n",
            "      Successfully uninstalled prompt-toolkit-3.0.39\n",
            "  Attempting uninstall: packaging\n",
            "    Found existing installation: packaging 23.1\n",
            "    Uninstalling packaging-23.1:\n",
            "      Successfully uninstalled packaging-23.1\n",
            "  Attempting uninstall: networkx\n",
            "    Found existing installation: networkx 3.1\n",
            "    Uninstalling networkx-3.1:\n",
            "      Successfully uninstalled networkx-3.1\n",
            "  Attempting uninstall: multidict\n",
            "    Found existing installation: multidict 6.0.4\n",
            "    Uninstalling multidict-6.0.4:\n",
            "      Successfully uninstalled multidict-6.0.4\n",
            "  Attempting uninstall: joblib\n",
            "    Found existing installation: joblib 1.3.1\n",
            "    Uninstalling joblib-1.3.1:\n",
            "      Successfully uninstalled joblib-1.3.1\n",
            "  Attempting uninstall: Babel\n",
            "    Found existing installation: Babel 2.12.1\n",
            "    Uninstalling Babel-2.12.1:\n",
            "      Successfully uninstalled Babel-2.12.1\n",
            "  Attempting uninstall: attrs\n",
            "    Found existing installation: attrs 23.1.0\n",
            "    Uninstalling attrs-23.1.0:\n",
            "      Successfully uninstalled attrs-23.1.0\n",
            "  Attempting uninstall: tensorflow_hub\n",
            "    Found existing installation: tensorflow-hub 0.14.0\n",
            "    Uninstalling tensorflow-hub-0.14.0:\n",
            "      Successfully uninstalled tensorflow-hub-0.14.0\n",
            "  Attempting uninstall: scikit-learn\n",
            "    Found existing installation: scikit-learn 1.2.2\n",
            "    Uninstalling scikit-learn-1.2.2:\n",
            "      Successfully uninstalled scikit-learn-1.2.2\n",
            "  Attempting uninstall: matplotlib\n",
            "    Found existing installation: matplotlib 3.7.1\n",
            "    Uninstalling matplotlib-3.7.1:\n",
            "      Successfully uninstalled matplotlib-3.7.1\n",
            "  Attempting uninstall: dask\n",
            "    Found existing installation: dask 2022.12.1\n",
            "    Uninstalling dask-2022.12.1:\n",
            "      Successfully uninstalled dask-2022.12.1\n",
            "  Attempting uninstall: CacheControl\n",
            "    Found existing installation: CacheControl 0.13.1\n",
            "    Uninstalling CacheControl-0.13.1:\n",
            "      Successfully uninstalled CacheControl-0.13.1\n",
            "\u001b[31mERROR: pip's dependency resolver does not currently take into account all the packages that are installed. This behaviour is the source of the following dependency conflicts.\n",
            "ipython 7.34.0 requires jedi>=0.16, which is not installed.\n",
            "distributed 2022.12.1 requires dask==2022.12.1, but you have dask 2022.10.2 which is incompatible.\n",
            "statsmodels 0.13.5 requires packaging>=21.3, but you have packaging 20.9 which is incompatible.\n",
            "xarray 2022.12.0 requires packaging>=21.3, but you have packaging 20.9 which is incompatible.\u001b[0m\u001b[31m\n",
            "\u001b[0mSuccessfully installed Babel-2.9.1 CacheControl-0.12.14 Rasa-3.6.4 SQLAlchemy-1.4.49 aio-pika-8.2.3 aiofiles-23.1.0 aiogram-2.25.1 aiohttp-retry-2.8.3 aiormq-6.4.2 apscheduler-3.9.1.post1 attrs-22.1.0 bidict-0.22.1 boto3-1.28.20 botocore-1.31.20 colorclass-2.2.2 coloredlogs-15.0.1 colorhash-1.2.1 confluent-kafka-2.2.0 dask-2022.10.2 dnspython-2.4.1 docopt-0.6.2 fbmessenger-6.0.0 fire-0.5.0 httptools-0.6.0 humanfriendly-10.0 jmespath-1.0.1 joblib-1.2.0 magic-filter-1.0.11 matplotlib-3.5.3 mattermostwrapper-2.2 multidict-5.2.0 networkx-2.6.3 packaging-20.9 pamqp-3.2.1 portalocker-2.7.0 prompt-toolkit-3.0.28 protobuf-4.23.3 psycopg2-binary-2.9.7 pydantic-1.10.9 pykwalify-1.8.0 pymongo-4.3.3 python-crfsuite-0.9.9 python-engineio-4.5.1 python-socketio-5.8.0 questionary-1.10.0 randomname-0.1.5 rasa-sdk-3.6.1 redis-4.6.0 requests-toolbelt-1.0.0 rocketchat_API-1.30.0 ruamel.yaml-0.17.21 ruamel.yaml.clib-0.2.7 s3transfer-0.6.1 sanic-21.12.2 sanic-cors-2.0.1 sanic-jwt-1.8.0 sanic-routing-0.7.2 scikit-learn-1.1.3 scipy-1.8.1 sentry-sdk-1.14.0 sklearn-crfsuite-0.3.6 slack-sdk-3.21.3 structlog-23.1.0 structlog-sentry-2.0.3 tarsafe-0.0.4 tensorflow-text-2.12.0 tensorflow_hub-0.13.0 terminaltables-3.1.10 twilio-8.2.2 typing-utils-0.1.0 ujson-5.8.0 uvloop-0.17.0 webexteamssdk-1.6.1 websockets-10.4\n"
          ]
        },
        {
          "output_type": "display_data",
          "data": {
            "application/vnd.colab-display-data+json": {
              "pip_warning": {
                "packages": [
                  "matplotlib",
                  "mpl_toolkits",
                  "packaging",
                  "prompt_toolkit"
                ]
              }
            }
          },
          "metadata": {}
        },
        {
          "output_type": "stream",
          "name": "stdout",
          "text": [
            "Requirement already satisfied: tables in /usr/local/lib/python3.10/dist-packages (3.8.0)\n",
            "Requirement already satisfied: cython>=0.29.21 in /usr/local/lib/python3.10/dist-packages (from tables) (0.29.36)\n",
            "Requirement already satisfied: numpy>=1.19.0 in /usr/local/lib/python3.10/dist-packages (from tables) (1.22.4)\n",
            "Requirement already satisfied: numexpr>=2.6.2 in /usr/local/lib/python3.10/dist-packages (from tables) (2.8.4)\n",
            "Requirement already satisfied: blosc2~=2.0.0 in /usr/local/lib/python3.10/dist-packages (from tables) (2.0.0)\n",
            "Requirement already satisfied: packaging in /usr/local/lib/python3.10/dist-packages (from tables) (20.9)\n",
            "Requirement already satisfied: py-cpuinfo in /usr/local/lib/python3.10/dist-packages (from tables) (9.0.0)\n",
            "Requirement already satisfied: msgpack in /usr/local/lib/python3.10/dist-packages (from blosc2~=2.0.0->tables) (1.0.5)\n",
            "Requirement already satisfied: pyparsing>=2.0.2 in /usr/local/lib/python3.10/dist-packages (from packaging->tables) (3.1.0)\n",
            "2023-08-06 06:54:14.751580: I tensorflow/core/platform/cpu_feature_guard.cc:182] This TensorFlow binary is optimized to use available CPU instructions in performance-critical operations.\n",
            "To enable the following instructions: AVX2 FMA, in other operations, rebuild TensorFlow with the appropriate compiler flags.\n",
            "2023-08-06 06:54:15.868218: W tensorflow/compiler/tf2tensorrt/utils/py_utils.cc:38] TF-TRT Warning: Could not find TensorRT\n",
            "\u001b[38;5;3m⚠ As of spaCy v3.0, shortcuts like 'en' are deprecated. Please use the\n",
            "full pipeline package name 'en_core_web_sm' instead.\u001b[0m\n",
            "Collecting en-core-web-sm==3.5.0\n",
            "  Downloading https://github.com/explosion/spacy-models/releases/download/en_core_web_sm-3.5.0/en_core_web_sm-3.5.0-py3-none-any.whl (12.8 MB)\n",
            "\u001b[2K     \u001b[90m━━━━━━━━━━━━━━━━━━━━━━━━━━━━━━━━━━━━━━━━\u001b[0m \u001b[32m12.8/12.8 MB\u001b[0m \u001b[31m34.9 MB/s\u001b[0m eta \u001b[36m0:00:00\u001b[0m\n",
            "\u001b[?25hRequirement already satisfied: spacy<3.6.0,>=3.5.0 in /usr/local/lib/python3.10/dist-packages (from en-core-web-sm==3.5.0) (3.5.4)\n",
            "Requirement already satisfied: spacy-legacy<3.1.0,>=3.0.11 in /usr/local/lib/python3.10/dist-packages (from spacy<3.6.0,>=3.5.0->en-core-web-sm==3.5.0) (3.0.12)\n",
            "Requirement already satisfied: spacy-loggers<2.0.0,>=1.0.0 in /usr/local/lib/python3.10/dist-packages (from spacy<3.6.0,>=3.5.0->en-core-web-sm==3.5.0) (1.0.4)\n",
            "Requirement already satisfied: murmurhash<1.1.0,>=0.28.0 in /usr/local/lib/python3.10/dist-packages (from spacy<3.6.0,>=3.5.0->en-core-web-sm==3.5.0) (1.0.9)\n",
            "Requirement already satisfied: cymem<2.1.0,>=2.0.2 in /usr/local/lib/python3.10/dist-packages (from spacy<3.6.0,>=3.5.0->en-core-web-sm==3.5.0) (2.0.7)\n",
            "Requirement already satisfied: preshed<3.1.0,>=3.0.2 in /usr/local/lib/python3.10/dist-packages (from spacy<3.6.0,>=3.5.0->en-core-web-sm==3.5.0) (3.0.8)\n",
            "Requirement already satisfied: thinc<8.2.0,>=8.1.8 in /usr/local/lib/python3.10/dist-packages (from spacy<3.6.0,>=3.5.0->en-core-web-sm==3.5.0) (8.1.10)\n",
            "Requirement already satisfied: wasabi<1.2.0,>=0.9.1 in /usr/local/lib/python3.10/dist-packages (from spacy<3.6.0,>=3.5.0->en-core-web-sm==3.5.0) (1.1.2)\n",
            "Requirement already satisfied: srsly<3.0.0,>=2.4.3 in /usr/local/lib/python3.10/dist-packages (from spacy<3.6.0,>=3.5.0->en-core-web-sm==3.5.0) (2.4.7)\n",
            "Requirement already satisfied: catalogue<2.1.0,>=2.0.6 in /usr/local/lib/python3.10/dist-packages (from spacy<3.6.0,>=3.5.0->en-core-web-sm==3.5.0) (2.0.9)\n",
            "Requirement already satisfied: typer<0.10.0,>=0.3.0 in /usr/local/lib/python3.10/dist-packages (from spacy<3.6.0,>=3.5.0->en-core-web-sm==3.5.0) (0.9.0)\n",
            "Requirement already satisfied: pathy>=0.10.0 in /usr/local/lib/python3.10/dist-packages (from spacy<3.6.0,>=3.5.0->en-core-web-sm==3.5.0) (0.10.2)\n",
            "Requirement already satisfied: smart-open<7.0.0,>=5.2.1 in /usr/local/lib/python3.10/dist-packages (from spacy<3.6.0,>=3.5.0->en-core-web-sm==3.5.0) (6.3.0)\n",
            "Requirement already satisfied: tqdm<5.0.0,>=4.38.0 in /usr/local/lib/python3.10/dist-packages (from spacy<3.6.0,>=3.5.0->en-core-web-sm==3.5.0) (4.65.0)\n",
            "Requirement already satisfied: numpy>=1.15.0 in /usr/local/lib/python3.10/dist-packages (from spacy<3.6.0,>=3.5.0->en-core-web-sm==3.5.0) (1.22.4)\n",
            "Requirement already satisfied: requests<3.0.0,>=2.13.0 in /usr/local/lib/python3.10/dist-packages (from spacy<3.6.0,>=3.5.0->en-core-web-sm==3.5.0) (2.27.1)\n",
            "Requirement already satisfied: pydantic!=1.8,!=1.8.1,<1.11.0,>=1.7.4 in /usr/local/lib/python3.10/dist-packages (from spacy<3.6.0,>=3.5.0->en-core-web-sm==3.5.0) (1.10.9)\n",
            "Requirement already satisfied: jinja2 in /usr/local/lib/python3.10/dist-packages (from spacy<3.6.0,>=3.5.0->en-core-web-sm==3.5.0) (3.1.2)\n",
            "Requirement already satisfied: setuptools in /usr/local/lib/python3.10/dist-packages (from spacy<3.6.0,>=3.5.0->en-core-web-sm==3.5.0) (67.7.2)\n",
            "Requirement already satisfied: packaging>=20.0 in /usr/local/lib/python3.10/dist-packages (from spacy<3.6.0,>=3.5.0->en-core-web-sm==3.5.0) (20.9)\n",
            "Requirement already satisfied: langcodes<4.0.0,>=3.2.0 in /usr/local/lib/python3.10/dist-packages (from spacy<3.6.0,>=3.5.0->en-core-web-sm==3.5.0) (3.3.0)\n",
            "Requirement already satisfied: pyparsing>=2.0.2 in /usr/local/lib/python3.10/dist-packages (from packaging>=20.0->spacy<3.6.0,>=3.5.0->en-core-web-sm==3.5.0) (3.1.0)\n",
            "Requirement already satisfied: typing-extensions>=4.2.0 in /usr/local/lib/python3.10/dist-packages (from pydantic!=1.8,!=1.8.1,<1.11.0,>=1.7.4->spacy<3.6.0,>=3.5.0->en-core-web-sm==3.5.0) (4.7.1)\n",
            "Requirement already satisfied: urllib3<1.27,>=1.21.1 in /usr/local/lib/python3.10/dist-packages (from requests<3.0.0,>=2.13.0->spacy<3.6.0,>=3.5.0->en-core-web-sm==3.5.0) (1.26.16)\n",
            "Requirement already satisfied: certifi>=2017.4.17 in /usr/local/lib/python3.10/dist-packages (from requests<3.0.0,>=2.13.0->spacy<3.6.0,>=3.5.0->en-core-web-sm==3.5.0) (2023.7.22)\n",
            "Requirement already satisfied: charset-normalizer~=2.0.0 in /usr/local/lib/python3.10/dist-packages (from requests<3.0.0,>=2.13.0->spacy<3.6.0,>=3.5.0->en-core-web-sm==3.5.0) (2.0.12)\n",
            "Requirement already satisfied: idna<4,>=2.5 in /usr/local/lib/python3.10/dist-packages (from requests<3.0.0,>=2.13.0->spacy<3.6.0,>=3.5.0->en-core-web-sm==3.5.0) (3.4)\n",
            "Requirement already satisfied: blis<0.8.0,>=0.7.8 in /usr/local/lib/python3.10/dist-packages (from thinc<8.2.0,>=8.1.8->spacy<3.6.0,>=3.5.0->en-core-web-sm==3.5.0) (0.7.10)\n",
            "Requirement already satisfied: confection<1.0.0,>=0.0.1 in /usr/local/lib/python3.10/dist-packages (from thinc<8.2.0,>=8.1.8->spacy<3.6.0,>=3.5.0->en-core-web-sm==3.5.0) (0.1.0)\n",
            "Requirement already satisfied: click<9.0.0,>=7.1.1 in /usr/local/lib/python3.10/dist-packages (from typer<0.10.0,>=0.3.0->spacy<3.6.0,>=3.5.0->en-core-web-sm==3.5.0) (8.1.6)\n",
            "Requirement already satisfied: MarkupSafe>=2.0 in /usr/local/lib/python3.10/dist-packages (from jinja2->spacy<3.6.0,>=3.5.0->en-core-web-sm==3.5.0) (2.1.3)\n",
            "\u001b[38;5;2m✔ Download and installation successful\u001b[0m\n",
            "You can now load the package via spacy.load('en_core_web_sm')\n",
            "Requirement already satisfied: ipython in /usr/local/lib/python3.10/dist-packages (7.34.0)\n",
            "Collecting ipython\n",
            "  Downloading ipython-8.14.0-py3-none-any.whl (798 kB)\n",
            "\u001b[2K     \u001b[90m━━━━━━━━━━━━━━━━━━━━━━━━━━━━━━━━━━━━━━━\u001b[0m \u001b[32m798.7/798.7 kB\u001b[0m \u001b[31m6.3 MB/s\u001b[0m eta \u001b[36m0:00:00\u001b[0m\n",
            "\u001b[?25hRequirement already satisfied: backcall in /usr/local/lib/python3.10/dist-packages (from ipython) (0.2.0)\n",
            "Requirement already satisfied: decorator in /usr/local/lib/python3.10/dist-packages (from ipython) (4.4.2)\n",
            "Collecting jedi>=0.16 (from ipython)\n",
            "  Downloading jedi-0.19.0-py2.py3-none-any.whl (1.6 MB)\n",
            "\u001b[2K     \u001b[90m━━━━━━━━━━━━━━━━━━━━━━━━━━━━━━━━━━━━━━━━\u001b[0m \u001b[32m1.6/1.6 MB\u001b[0m \u001b[31m14.6 MB/s\u001b[0m eta \u001b[36m0:00:00\u001b[0m\n",
            "\u001b[?25hRequirement already satisfied: matplotlib-inline in /usr/local/lib/python3.10/dist-packages (from ipython) (0.1.6)\n",
            "Requirement already satisfied: pickleshare in /usr/local/lib/python3.10/dist-packages (from ipython) (0.7.5)\n",
            "Collecting prompt-toolkit!=3.0.37,<3.1.0,>=3.0.30 (from ipython)\n",
            "  Downloading prompt_toolkit-3.0.39-py3-none-any.whl (385 kB)\n",
            "\u001b[2K     \u001b[90m━━━━━━━━━━━━━━━━━━━━━━━━━━━━━━━━━━━━━━\u001b[0m \u001b[32m385.2/385.2 kB\u001b[0m \u001b[31m16.8 MB/s\u001b[0m eta \u001b[36m0:00:00\u001b[0m\n",
            "\u001b[?25hRequirement already satisfied: pygments>=2.4.0 in /usr/local/lib/python3.10/dist-packages (from ipython) (2.14.0)\n",
            "Collecting stack-data (from ipython)\n",
            "  Downloading stack_data-0.6.2-py3-none-any.whl (24 kB)\n",
            "Requirement already satisfied: traitlets>=5 in /usr/local/lib/python3.10/dist-packages (from ipython) (5.7.1)\n",
            "Requirement already satisfied: pexpect>4.3 in /usr/local/lib/python3.10/dist-packages (from ipython) (4.8.0)\n",
            "Requirement already satisfied: parso<0.9.0,>=0.8.3 in /usr/local/lib/python3.10/dist-packages (from jedi>=0.16->ipython) (0.8.3)\n",
            "Requirement already satisfied: ptyprocess>=0.5 in /usr/local/lib/python3.10/dist-packages (from pexpect>4.3->ipython) (0.7.0)\n",
            "Requirement already satisfied: wcwidth in /usr/local/lib/python3.10/dist-packages (from prompt-toolkit!=3.0.37,<3.1.0,>=3.0.30->ipython) (0.2.6)\n",
            "Collecting executing>=1.2.0 (from stack-data->ipython)\n",
            "  Downloading executing-1.2.0-py2.py3-none-any.whl (24 kB)\n",
            "Collecting asttokens>=2.1.0 (from stack-data->ipython)\n",
            "  Downloading asttokens-2.2.1-py2.py3-none-any.whl (26 kB)\n",
            "Collecting pure-eval (from stack-data->ipython)\n",
            "  Downloading pure_eval-0.2.2-py3-none-any.whl (11 kB)\n",
            "Requirement already satisfied: six in /usr/local/lib/python3.10/dist-packages (from asttokens>=2.1.0->stack-data->ipython) (1.16.0)\n",
            "Installing collected packages: pure-eval, executing, prompt-toolkit, jedi, asttokens, stack-data, ipython\n",
            "  Attempting uninstall: prompt-toolkit\n",
            "    Found existing installation: prompt-toolkit 3.0.28\n",
            "    Uninstalling prompt-toolkit-3.0.28:\n",
            "      Successfully uninstalled prompt-toolkit-3.0.28\n",
            "  Attempting uninstall: ipython\n",
            "    Found existing installation: ipython 7.34.0\n",
            "    Uninstalling ipython-7.34.0:\n",
            "      Successfully uninstalled ipython-7.34.0\n",
            "\u001b[31mERROR: pip's dependency resolver does not currently take into account all the packages that are installed. This behaviour is the source of the following dependency conflicts.\n",
            "google-colab 1.0.0 requires ipython==7.34.0, but you have ipython 8.14.0 which is incompatible.\n",
            "rasa 3.6.4 requires prompt-toolkit<3.0.29,>=3.0, but you have prompt-toolkit 3.0.39 which is incompatible.\n",
            "rasa-sdk 3.6.1 requires prompt-toolkit<3.0.29,>=3.0, but you have prompt-toolkit 3.0.39 which is incompatible.\u001b[0m\u001b[31m\n",
            "\u001b[0mSuccessfully installed asttokens-2.2.1 executing-1.2.0 ipython-8.14.0 jedi-0.19.0 prompt-toolkit-3.0.39 pure-eval-0.2.2 stack-data-0.6.2\n"
          ]
        },
        {
          "output_type": "display_data",
          "data": {
            "application/vnd.colab-display-data+json": {
              "pip_warning": {
                "packages": [
                  "IPython",
                  "prompt_toolkit"
                ]
              }
            }
          },
          "metadata": {}
        },
        {
          "output_type": "stream",
          "name": "stdout",
          "text": [
            "Collecting nest_asyncio==1.3.3\n",
            "  Downloading nest_asyncio-1.3.3-py3-none-any.whl (4.7 kB)\n",
            "Installing collected packages: nest_asyncio\n",
            "  Attempting uninstall: nest_asyncio\n",
            "    Found existing installation: nest-asyncio 1.5.6\n",
            "    Uninstalling nest-asyncio-1.5.6:\n",
            "      Successfully uninstalled nest-asyncio-1.5.6\n",
            "\u001b[31mERROR: pip's dependency resolver does not currently take into account all the packages that are installed. This behaviour is the source of the following dependency conflicts.\n",
            "notebook 6.4.8 requires nest-asyncio>=1.5, but you have nest-asyncio 1.3.3 which is incompatible.\u001b[0m\u001b[31m\n",
            "\u001b[0mSuccessfully installed nest_asyncio-1.3.3\n"
          ]
        }
      ],
      "source": [
        "!pip install Rasa\n",
        "!pip install -U tables\n",
        "!python -m spacy download en\n",
        "!pip install -U ipython\n",
        "!pip install nest_asyncio==1.3.3"
      ]
    },
    {
      "cell_type": "markdown",
      "source": [
        "**Import Libraries**"
      ],
      "metadata": {
        "id": "wzYJk-rGS2e1"
      }
    },
    {
      "cell_type": "code",
      "execution_count": null,
      "metadata": {
        "colab": {
          "base_uri": "https://localhost:8080/"
        },
        "id": "LDrQI1nbhERj",
        "outputId": "f8af144d-feb4-40d0-9366-32a72a39b847"
      },
      "outputs": [
        {
          "output_type": "stream",
          "name": "stdout",
          "text": [
            "Event loop ready.\n"
          ]
        }
      ],
      "source": [
        "import os\n",
        "import rasa\n",
        "import nest_asyncio\n",
        "\n",
        "nest_asyncio.apply()\n",
        "print(\"Event loop ready.\")"
      ]
    },
    {
      "cell_type": "code",
      "execution_count": null,
      "metadata": {
        "id": "crjpFhCvhPdz"
      },
      "outputs": [],
      "source": [
        "from rasa.cli.scaffold import create_initial_project"
      ]
    },
    {
      "cell_type": "code",
      "execution_count": null,
      "metadata": {
        "id": "iUYISTHRhTSO"
      },
      "outputs": [],
      "source": [
        "project = \"project\"\n",
        "create_initial_project(project)"
      ]
    },
    {
      "cell_type": "code",
      "execution_count": null,
      "metadata": {
        "colab": {
          "base_uri": "https://localhost:8080/"
        },
        "id": "9tAhQEmLhT3Q",
        "outputId": "6653135e-a1ee-443d-b860-4455b71c59b3"
      },
      "outputs": [
        {
          "output_type": "stream",
          "name": "stdout",
          "text": [
            "['data', 'tests', 'config.yml', 'domain.yml', 'endpoints.yml', 'actions', 'credentials.yml']\n"
          ]
        }
      ],
      "source": [
        "os.chdir(project)\n",
        "print(os.listdir(\".\"))"
      ]
    },
    {
      "cell_type": "markdown",
      "source": [
        "**Write File data/nlu.yml**"
      ],
      "metadata": {
        "id": "OV7OXhpiUA96"
      }
    },
    {
      "cell_type": "code",
      "execution_count": null,
      "metadata": {
        "colab": {
          "base_uri": "https://localhost:8080/"
        },
        "id": "JeVXLtepiScD",
        "outputId": "e132fe71-2c70-4818-8ef3-a80a1b447223"
      },
      "outputs": [
        {
          "output_type": "stream",
          "name": "stdout",
          "text": [
            "Overwriting data/nlu.yml\n"
          ]
        }
      ],
      "source": [
        "%%writefile data/nlu.yml\n",
        "\n",
        "version: \"3.1\"\n",
        "\n",
        "nlu:\n",
        "- intent: greet\n",
        "  examples: |\n",
        "    - اهلا\n",
        "    - ازيك\n",
        "    - كيف حالك\n",
        "    - مرحبا\n",
        "    - ايه الاخبار\n",
        "    - اهلا وسهلا\n",
        "    - صباح الخير\n",
        "    - السلام عليكم ورحمه الله وبركاته\n",
        "\n",
        "- intent: goodbye\n",
        "  examples: |\n",
        "    - مع السلامه\n",
        "    - سلام\n",
        "\n",
        "- intent: affirm\n",
        "  examples: |\n",
        "    - نعم\n",
        "    - ايوه\n",
        "    - اكيد\n",
        "    - بالظبط\n",
        "\n",
        "- intent: deny\n",
        "  examples: |\n",
        "    - لا\n",
        "    - لا طبعا\n",
        "    - مستحيل\n",
        "\n",
        "- intent: mood_great\n",
        "  examples: |\n",
        "    - ممتاز\n",
        "    - عظيم\n",
        "    - كويس\n",
        "    - حلو اوي\n",
        "\n",
        "- intent: mood_unhappy\n",
        "  examples: |\n",
        "    - يوم سيء\n",
        "    - انا زعلان\n",
        "    - انا محبط\n",
        "    - زعلان جدا\n",
        "    - متضايق\n",
        "    - مش كويس\n",
        "\n",
        "- intent: bot_challenge\n",
        "  examples: |\n",
        "    - انت بوت؟\n",
        "    - انت انسان؟\n",
        "    - بتلكم مع بوت؟\n",
        "\n",
        "- intent: bot_question\n",
        "  examples: |\n",
        "    -عندى سؤال؟\n",
        "    -ممكن اسأل سؤال؟\n",
        "\n",
        "- intent: leave_balance\n",
        "  examples: |\n",
        "    - إيه هو رصيد أجازاتى؟\n",
        "    - عايز أعرف رصيد أجازاتى\n",
        "\n",
        "\n",
        "- intent: Thank_you\n",
        "  examples: |\n",
        "    - شكرا\n",
        "    - أشكرك\n"
      ]
    },
    {
      "cell_type": "markdown",
      "source": [
        "**Write File domain.yml**"
      ],
      "metadata": {
        "id": "MRkzdTcMUO1A"
      }
    },
    {
      "cell_type": "code",
      "execution_count": null,
      "metadata": {
        "colab": {
          "base_uri": "https://localhost:8080/"
        },
        "id": "ZvMINLBcjPUM",
        "outputId": "8881e2d7-f4a1-49b2-8db3-ebdcb01a8972"
      },
      "outputs": [
        {
          "output_type": "stream",
          "name": "stdout",
          "text": [
            "Overwriting domain.yml\n"
          ]
        }
      ],
      "source": [
        "%%writefile domain.yml\n",
        "\n",
        "version: \"3.1\"\n",
        "\n",
        "intents:\n",
        "  - greet\n",
        "  - goodbye\n",
        "  - affirm\n",
        "  - deny\n",
        "  - mood_great\n",
        "  - mood_unhappy\n",
        "  - bot_challenge\n",
        "  - bot_question\n",
        "  - leave_balance\n",
        "  - Thank_you\n",
        "\n",
        "responses:\n",
        "  utter_greet:\n",
        "  - text: \"اهلا وسهلا\"\n",
        "\n",
        "  utter_cheer_up:\n",
        "  - text: \"دي حاجه بسيطه كده\"\n",
        "    image: \"https://i.imgur.com/nGF1K8f.jpg\"\n",
        "\n",
        "  utter_did_that_help:\n",
        "  - text: \"Did that help you?\"\n",
        "\n",
        "  utter_happy:\n",
        "  - text: \"رائع\"\n",
        "\n",
        "  utter_goodbye:\n",
        "  - text: \"سلام\"\n",
        "\n",
        "  utter_Iamabot:\n",
        "  - text: \"بوت مدعوم براذا\"\n",
        "\n",
        "  utter_mood_unhappy:\n",
        "  - text: \"ليه مالك احكيلي\"\n",
        "\n",
        "  utter_ask_question:\n",
        "  - text: \"اتفضل اسأل\"\n",
        "\n",
        "  utter_Leave_balance:\n",
        "  - text: \" أقدر أساعدك فى حاجة تانية؟للأسف لا يوجد عندى المعلومة دى فى حد من التيم هيتواصل مع حضرتك فى أقرب فرصة\"\n",
        "\n",
        "  utter_thank_you:\n",
        "  - text: \"عفوا\"\n",
        "\n",
        "session_config:\n",
        "  session_expiration_time: 2\n",
        "  carry_over_slots_to_new_session: true"
      ]
    },
    {
      "cell_type": "markdown",
      "source": [
        "**Write File data/rules.yml**"
      ],
      "metadata": {
        "id": "hs0oVKHeUX4r"
      }
    },
    {
      "cell_type": "code",
      "source": [
        "%%writefile data/rules.yml\n",
        "\n",
        "rules:\n",
        "\n",
        "- rule: Say goodbye anytime the user says goodbye\n",
        "  steps:\n",
        "  - intent: goodbye\n",
        "  - action: utter_goodbye\n",
        "\n",
        "- rule: Say 'I am a bot' anytime the user challenges\n",
        "  steps:\n",
        "  - intent: bot_challenge\n",
        "  - action: utter_Iamabot\n",
        "\n",
        "- rule: Say  'How can I help you?'\n",
        "  steps:\n",
        "  - intent: bot_question\n",
        "  - action: utter_ask_question\n",
        "\n",
        "- rule: Say  'I have no idea'\n",
        "  steps:\n",
        "  - intent: leave_balance\n",
        "  - action:   utter_Leave_balance\n",
        "\n",
        "- rule: say 'You're welcome'\n",
        "  steps:\n",
        "  - intent: Thank_you\n",
        "  - action: utter_thank_you"
      ],
      "metadata": {
        "colab": {
          "base_uri": "https://localhost:8080/"
        },
        "id": "DQRV9LlbY4Q_",
        "outputId": "924aebcb-e61d-4230-e6b1-9917857573f4"
      },
      "execution_count": null,
      "outputs": [
        {
          "output_type": "stream",
          "name": "stdout",
          "text": [
            "Overwriting data/rules.yml\n"
          ]
        }
      ]
    },
    {
      "cell_type": "code",
      "execution_count": null,
      "metadata": {
        "colab": {
          "base_uri": "https://localhost:8080/"
        },
        "id": "j2RtnylTj9TT",
        "outputId": "00c2753f-ea14-4764-9b62-1a7a0947cd0f"
      },
      "outputs": [
        {
          "output_type": "stream",
          "name": "stdout",
          "text": [
            "config.yml data/ domain.yml models/\n"
          ]
        }
      ],
      "source": [
        "config= \"config.yml\"\n",
        "domain= \"domain.yml\"\n",
        "training_files= \"data/\"\n",
        "output= \"models/\"\n",
        "print(config, training_files, domain, output)"
      ]
    },
    {
      "cell_type": "markdown",
      "source": [
        "**Train The Model**"
      ],
      "metadata": {
        "id": "dzSpfmZjPBby"
      }
    },
    {
      "cell_type": "code",
      "execution_count": null,
      "metadata": {
        "colab": {
          "base_uri": "https://localhost:8080/"
        },
        "id": "FVw9fDyHhXWR",
        "outputId": "6b458a96-6ec5-4e8b-e4d4-5f3a04090747"
      },
      "outputs": [
        {
          "output_type": "stream",
          "name": "stderr",
          "text": [
            "/usr/local/lib/python3.10/dist-packages/rasa/engine/caching.py:152: MovedIn20Warning: Deprecated API features detected! These feature(s) are not compatible with SQLAlchemy 2.0. To prevent incompatible upgrades prior to updating applications, ensure requirements files are pinned to \"sqlalchemy<2.0\". Set environment variable SQLALCHEMY_WARN_20=1 to show all deprecation warnings.  Set environment variable SQLALCHEMY_SILENCE_UBER_WARNING=1 to silence this message. (Background on SQLAlchemy 2.0 at: https://sqlalche.me/e/b8d9)\n",
            "  Base: DeclarativeMeta = declarative_base()\n",
            "<frozen importlib._bootstrap>:283: DeprecationWarning: the load_module() method is deprecated and slated for removal in Python 3.12; use exec_module() instead\n"
          ]
        },
        {
          "output_type": "stream",
          "name": "stdout",
          "text": [
            "\u001b(0lqqqqqqqqqqqqqqqqqqqqqqqqqqqqqqqqqqqqqqqqqqqqqqqqqqqqqqqqqqqqqqqqqqqqqqqqqqqqqqqqk\u001b(B\n",
            "\u001b(0x\u001b(B Rasa Open Source reports anonymous usage telemetry to help improve the product \u001b(0x\u001b(B\n",
            "\u001b(0x\u001b(B for all its users.                                                             \u001b(0x\u001b(B\n",
            "\u001b(0x\u001b(B                                                                                \u001b(0x\u001b(B\n",
            "\u001b(0x\u001b(B If you'd like to opt-out, you can use `rasa telemetry disable`.                \u001b(0x\u001b(B\n",
            "\u001b(0x\u001b(B To learn more, check out https://rasa.com/docs/rasa/telemetry/telemetry.       \u001b(0x\u001b(B\n",
            "\u001b(0mqqqqqqqqqqqqqqqqqqqqqqqqqqqqqqqqqqqqqqqqqqqqqqqqqqqqqqqqqqqqqqqqqqqqqqqqqqqqqqqqj\u001b(B\n"
          ]
        },
        {
          "output_type": "stream",
          "name": "stderr",
          "text": [
            "<frozen importlib._bootstrap>:283: DeprecationWarning: the load_module() method is deprecated and slated for removal in Python 3.12; use exec_module() instead\n"
          ]
        },
        {
          "output_type": "stream",
          "name": "stdout",
          "text": [
            "\u001b[94mThe configuration for policies and pipeline was chosen automatically. It was written into the config file at 'config.yml'.\u001b[0m\n"
          ]
        },
        {
          "output_type": "stream",
          "name": "stderr",
          "text": [
            "\rEpochs:   0%|          | 0/100 [00:00<?, ?it/s]/usr/lib/python3.10/random.py:370: DeprecationWarning: non-integer arguments to randrange() have been deprecated since Python 3.10 and will be removed in a subsequent version\n",
            "  return self.randrange(a, b+1)\n",
            "Epochs: 100%|██████████| 100/100 [00:37<00:00,  2.69it/s, t_loss=1.27, i_acc=1]\n",
            "Processed story blocks: 100%|██████████| 3/3 [00:00<00:00, 197.47it/s, # trackers=1]\n",
            "Processed story blocks: 100%|██████████| 3/3 [00:00<00:00, 260.94it/s, # trackers=3]\n",
            "Processed story blocks: 100%|██████████| 3/3 [00:00<00:00, 91.62it/s, # trackers=12]\n",
            "Processed story blocks: 100%|██████████| 3/3 [00:00<00:00, 50.38it/s, # trackers=39]\n",
            "Processed rules: 100%|██████████| 5/5 [00:00<00:00, 472.35it/s, # trackers=1]\n",
            "Processed trackers: 100%|██████████| 3/3 [00:00<00:00, 140.74it/s, # action=12]\n",
            "Processed actions: 12it [00:00, 281.83it/s, # examples=12]\n",
            "Processed trackers: 100%|██████████| 5/5 [00:00<00:00, 249.20it/s, # action=11]\n",
            "Processed actions: 11it [00:00, 343.61it/s, # examples=10]\n",
            "Processed trackers: 100%|██████████| 3/3 [00:00<00:00, 121.57it/s, # action=12]\n",
            "Processed trackers:   0%|          | 0/5 [00:00<?, ?it/s]"
          ]
        },
        {
          "output_type": "stream",
          "name": "stdout",
          "text": [
            "2023-08-06 07:02:23 [debug    ] rule_policy.actions.find       current_states=\n",
            "[state 1] previous action name: ...\n",
            "[state 2] previous action name: action_listen\n",
            "2023-08-06 07:02:23 [debug    ] rule_policy.actions.find       current_states=\n",
            "[state 1] previous action name: ...\n",
            "[state 2] user intent: bot_question | previous action name: action_listen\n",
            "2023-08-06 07:02:23 [debug    ] rule_policy.actions.find       current_states=\n",
            "[state 1] previous action name: ...\n",
            "[state 2] user intent: bot_question | previous action name: action_listen\n",
            "[state 3] user intent: bot_question | previous action name: utter_ask_question\n",
            "2023-08-06 07:02:23 [debug    ] rule_policy.actions.find       current_states=\n",
            "[state 1] previous action name: ...\n",
            "[state 2] previous action name: action_listen\n",
            "2023-08-06 07:02:23 [debug    ] rule_policy.actions.find       current_states=\n",
            "[state 1] previous action name: ...\n",
            "[state 2] user intent: Thank_you | previous action name: action_listen\n",
            "2023-08-06 07:02:23 [debug    ] rule_policy.actions.find       current_states=\n",
            "[state 1] previous action name: ...\n",
            "[state 2] user intent: Thank_you | previous action name: action_listen\n",
            "[state 3] user intent: Thank_you | previous action name: utter_thank_you\n",
            "2023-08-06 07:02:23 [debug    ] rule_policy.actions.find       current_states=\n",
            "[state 1] previous action name: ...\n",
            "[state 2] previous action name: action_listen\n",
            "2023-08-06 07:02:23 [debug    ] rule_policy.actions.find       current_states=\n",
            "[state 1] previous action name: ...\n",
            "[state 2] user intent: bot_challenge | previous action name: action_listen\n",
            "2023-08-06 07:02:23 [debug    ] rule_policy.actions.find       current_states=\n",
            "[state 1] previous action name: ...\n",
            "[state 2] user intent: bot_challenge | previous action name: action_listen\n",
            "[state 3] user intent: bot_challenge | previous action name: utter_Iamabot\n",
            "2023-08-06 07:02:23 [debug    ] rule_policy.actions.find       current_states=\n",
            "[state 1] previous action name: ...\n",
            "[state 2] previous action name: action_listen\n",
            "2023-08-06 07:02:23 [debug    ] rule_policy.actions.find       current_states=\n",
            "[state 1] previous action name: ...\n",
            "[state 2] user intent: goodbye | previous action name: action_listen\n",
            "2023-08-06 07:02:23 [debug    ] rule_policy.actions.find       current_states=\n",
            "[state 1] previous action name: ...\n",
            "[state 2] user intent: goodbye | previous action name: action_listen\n",
            "[state 3] user intent: goodbye | previous action name: utter_goodbye\n",
            "2023-08-06 07:02:23 [debug    ] rule_policy.actions.find       current_states=\n",
            "[state 1] previous action name: ...\n",
            "[state 2] previous action name: action_listen\n",
            "2023-08-06 07:02:23 [debug    ] rule_policy.actions.find       current_states=\n",
            "[state 1] previous action name: ...\n",
            "[state 2] user intent: leave_balance | previous action name: action_listen\n",
            "2023-08-06 07:02:23 [debug    ] rule_policy.actions.find       current_states=\n",
            "[state 1] previous action name: ...\n",
            "[state 2] user intent: leave_balance | previous action name: action_listen\n",
            "[state 3] user intent: leave_balance | previous action name: utter_Leave_balance\n"
          ]
        },
        {
          "output_type": "stream",
          "name": "stderr",
          "text": [
            "Processed trackers: 100%|██████████| 5/5 [00:00<00:00, 159.71it/s]\n",
            "Processed trackers:   0%|          | 0/8 [00:00<?, ?it/s]"
          ]
        },
        {
          "output_type": "stream",
          "name": "stdout",
          "text": [
            "2023-08-06 07:02:23 [debug    ] rule_policy.actions.find       current_states=\n",
            "[state 1] previous action name: action_listen\n",
            "2023-08-06 07:02:23 [debug    ] rule_policy.actions.find       current_states=\n",
            "[state 1] user intent: greet | previous action name: action_listen\n",
            "2023-08-06 07:02:23 [debug    ] rule_policy.actions.find       current_states=\n",
            "[state 1] user intent: greet | previous action name: action_listen\n",
            "[state 2] user intent: greet | previous action name: utter_greet\n",
            "2023-08-06 07:02:23 [debug    ] rule_policy.actions.find       current_states=\n",
            "[state 1] user intent: greet | previous action name: action_listen\n",
            "[state 2] user intent: greet | previous action name: utter_greet\n",
            "[state 3] previous action name: action_listen\n",
            "2023-08-06 07:02:23 [debug    ] rule_policy.actions.find       current_states=\n",
            "[state 1] user intent: greet | previous action name: action_listen\n",
            "[state 2] user intent: greet | previous action name: utter_greet\n",
            "[state 3] user intent: mood_great | previous action name: action_listen\n",
            "2023-08-06 07:02:23 [debug    ] rule_policy.actions.find       current_states=\n",
            "[state 1] user intent: greet | previous action name: action_listen\n",
            "[state 2] user intent: greet | previous action name: utter_greet\n",
            "[state 3] user intent: mood_great | previous action name: action_listen\n",
            "[state 4] user intent: mood_great | previous action name: utter_happy\n",
            "2023-08-06 07:02:23 [debug    ] rule_policy.actions.find       current_states=\n",
            "[state 1] previous action name: action_listen\n",
            "2023-08-06 07:02:23 [debug    ] rule_policy.actions.find       current_states=\n",
            "[state 1] user intent: greet | previous action name: action_listen\n",
            "2023-08-06 07:02:23 [debug    ] rule_policy.actions.find       current_states=\n",
            "[state 1] user intent: greet | previous action name: action_listen\n",
            "[state 2] user intent: greet | previous action name: utter_greet\n",
            "2023-08-06 07:02:23 [debug    ] rule_policy.actions.find       current_states=\n",
            "[state 1] user intent: greet | previous action name: action_listen\n",
            "[state 2] user intent: greet | previous action name: utter_greet\n",
            "[state 3] previous action name: action_listen\n",
            "2023-08-06 07:02:23 [debug    ] rule_policy.actions.find       current_states=\n",
            "[state 1] user intent: greet | previous action name: action_listen\n",
            "[state 2] user intent: greet | previous action name: utter_greet\n",
            "[state 3] user intent: mood_unhappy | previous action name: action_listen\n",
            "2023-08-06 07:02:23 [debug    ] rule_policy.actions.find       current_states=\n",
            "[state 1] user intent: greet | previous action name: action_listen\n",
            "[state 2] user intent: greet | previous action name: utter_greet\n",
            "[state 3] user intent: mood_unhappy | previous action name: action_listen\n",
            "[state 4] user intent: mood_unhappy | previous action name: utter_cheer_up\n",
            "2023-08-06 07:02:23 [debug    ] rule_policy.actions.find       current_states=\n",
            "[state 1] user intent: greet | previous action name: action_listen\n",
            "[state 2] user intent: greet | previous action name: utter_greet\n",
            "[state 3] user intent: mood_unhappy | previous action name: action_listen\n",
            "[state 4] user intent: mood_unhappy | previous action name: utter_cheer_up\n",
            "[state 5] user intent: mood_unhappy | previous action name: utter_did_that_help\n",
            "2023-08-06 07:02:23 [debug    ] rule_policy.actions.find       current_states=\n",
            "[state 1] user intent: greet | previous action name: action_listen\n",
            "[state 2] user intent: greet | previous action name: utter_greet\n",
            "[state 3] user intent: mood_unhappy | previous action name: action_listen\n",
            "[state 4] user intent: mood_unhappy | previous action name: utter_cheer_up\n",
            "[state 5] user intent: mood_unhappy | previous action name: utter_did_that_help\n",
            "[state 6] previous action name: action_listen\n",
            "2023-08-06 07:02:23 [debug    ] rule_policy.actions.find       current_states=\n",
            "[state 1] user intent: greet | previous action name: action_listen\n",
            "[state 2] user intent: greet | previous action name: utter_greet\n",
            "[state 3] user intent: mood_unhappy | previous action name: action_listen\n",
            "[state 4] user intent: mood_unhappy | previous action name: utter_cheer_up\n",
            "[state 5] user intent: mood_unhappy | previous action name: utter_did_that_help\n",
            "[state 6] user intent: affirm | previous action name: action_listen\n",
            "2023-08-06 07:02:23 [debug    ] rule_policy.actions.find       current_states=\n",
            "[state 1] user intent: greet | previous action name: action_listen\n",
            "[state 2] user intent: greet | previous action name: utter_greet\n",
            "[state 3] user intent: mood_unhappy | previous action name: action_listen\n",
            "[state 4] user intent: mood_unhappy | previous action name: utter_cheer_up\n",
            "[state 5] user intent: mood_unhappy | previous action name: utter_did_that_help\n",
            "[state 6] user intent: affirm | previous action name: action_listen\n",
            "[state 7] user intent: affirm | previous action name: utter_happy\n",
            "2023-08-06 07:02:23 [debug    ] rule_policy.actions.find       current_states=\n",
            "[state 1] previous action name: action_listen\n",
            "2023-08-06 07:02:23 [debug    ] rule_policy.actions.find       current_states=\n",
            "[state 1] user intent: greet | previous action name: action_listen\n",
            "2023-08-06 07:02:23 [debug    ] rule_policy.actions.find       current_states=\n",
            "[state 1] user intent: greet | previous action name: action_listen\n",
            "[state 2] user intent: greet | previous action name: utter_greet\n",
            "2023-08-06 07:02:23 [debug    ] rule_policy.actions.find       current_states=\n",
            "[state 1] user intent: greet | previous action name: action_listen\n",
            "[state 2] user intent: greet | previous action name: utter_greet\n",
            "[state 3] previous action name: action_listen\n",
            "2023-08-06 07:02:23 [debug    ] rule_policy.actions.find       current_states=\n",
            "[state 1] user intent: greet | previous action name: action_listen\n",
            "[state 2] user intent: greet | previous action name: utter_greet\n",
            "[state 3] user intent: mood_unhappy | previous action name: action_listen\n",
            "2023-08-06 07:02:23 [debug    ] rule_policy.actions.find       current_states=\n",
            "[state 1] user intent: greet | previous action name: action_listen\n",
            "[state 2] user intent: greet | previous action name: utter_greet\n",
            "[state 3] user intent: mood_unhappy | previous action name: action_listen\n",
            "[state 4] user intent: mood_unhappy | previous action name: utter_cheer_up\n",
            "2023-08-06 07:02:23 [debug    ] rule_policy.actions.find       current_states=\n",
            "[state 1] user intent: greet | previous action name: action_listen\n",
            "[state 2] user intent: greet | previous action name: utter_greet\n",
            "[state 3] user intent: mood_unhappy | previous action name: action_listen\n",
            "[state 4] user intent: mood_unhappy | previous action name: utter_cheer_up\n",
            "[state 5] user intent: mood_unhappy | previous action name: utter_did_that_help\n",
            "2023-08-06 07:02:23 [debug    ] rule_policy.actions.find       current_states=\n",
            "[state 1] user intent: greet | previous action name: action_listen\n",
            "[state 2] user intent: greet | previous action name: utter_greet\n",
            "[state 3] user intent: mood_unhappy | previous action name: action_listen\n",
            "[state 4] user intent: mood_unhappy | previous action name: utter_cheer_up\n",
            "[state 5] user intent: mood_unhappy | previous action name: utter_did_that_help\n",
            "[state 6] previous action name: action_listen\n",
            "2023-08-06 07:02:23 [debug    ] rule_policy.actions.find       current_states=\n",
            "[state 1] user intent: greet | previous action name: action_listen\n",
            "[state 2] user intent: greet | previous action name: utter_greet\n",
            "[state 3] user intent: mood_unhappy | previous action name: action_listen\n",
            "[state 4] user intent: mood_unhappy | previous action name: utter_cheer_up\n",
            "[state 5] user intent: mood_unhappy | previous action name: utter_did_that_help\n",
            "[state 6] user intent: deny | previous action name: action_listen\n",
            "2023-08-06 07:02:23 [debug    ] rule_policy.actions.find       current_states=\n",
            "[state 1] user intent: greet | previous action name: action_listen\n",
            "[state 2] user intent: greet | previous action name: utter_greet\n",
            "[state 3] user intent: mood_unhappy | previous action name: action_listen\n",
            "[state 4] user intent: mood_unhappy | previous action name: utter_cheer_up\n",
            "[state 5] user intent: mood_unhappy | previous action name: utter_did_that_help\n",
            "[state 6] user intent: deny | previous action name: action_listen\n",
            "[state 7] user intent: deny | previous action name: utter_goodbye\n",
            "2023-08-06 07:02:23 [debug    ] rule_policy.actions.find       current_states=\n",
            "[state 1] previous action name: ...\n",
            "[state 2] previous action name: action_listen\n",
            "2023-08-06 07:02:23 [debug    ] rule_policy.actions.find       current_states=\n",
            "[state 1] previous action name: ...\n",
            "[state 2] user intent: bot_question | previous action name: action_listen\n",
            "2023-08-06 07:02:23 [debug    ] rule_policy.actions.find       current_states=\n",
            "[state 1] previous action name: ...\n",
            "[state 2] user intent: bot_question | previous action name: action_listen\n",
            "[state 3] user intent: bot_question | previous action name: utter_ask_question\n",
            "2023-08-06 07:02:23 [debug    ] rule_policy.actions.find       current_states=\n",
            "[state 1] previous action name: ...\n",
            "[state 2] previous action name: action_listen\n",
            "2023-08-06 07:02:23 [debug    ] rule_policy.actions.find       current_states=\n",
            "[state 1] previous action name: ...\n",
            "[state 2] user intent: Thank_you | previous action name: action_listen\n",
            "2023-08-06 07:02:23 [debug    ] rule_policy.actions.find       current_states=\n",
            "[state 1] previous action name: ...\n",
            "[state 2] user intent: Thank_you | previous action name: action_listen\n",
            "[state 3] user intent: Thank_you | previous action name: utter_thank_you\n",
            "2023-08-06 07:02:23 [debug    ] rule_policy.actions.find       current_states=\n",
            "[state 1] previous action name: ...\n",
            "[state 2] previous action name: action_listen\n",
            "2023-08-06 07:02:23 [debug    ] rule_policy.actions.find       current_states=\n",
            "[state 1] previous action name: ...\n",
            "[state 2] user intent: bot_challenge | previous action name: action_listen\n",
            "2023-08-06 07:02:23 [debug    ] rule_policy.actions.find       current_states=\n",
            "[state 1] previous action name: ...\n",
            "[state 2] user intent: bot_challenge | previous action name: action_listen\n",
            "[state 3] user intent: bot_challenge | previous action name: utter_Iamabot\n",
            "2023-08-06 07:02:23 [debug    ] rule_policy.actions.find       current_states=\n",
            "[state 1] previous action name: ...\n",
            "[state 2] previous action name: action_listen\n",
            "2023-08-06 07:02:23 [debug    ] rule_policy.actions.find       current_states=\n",
            "[state 1] previous action name: ...\n",
            "[state 2] user intent: goodbye | previous action name: action_listen\n",
            "2023-08-06 07:02:23 [debug    ] rule_policy.actions.find       current_states=\n",
            "[state 1] previous action name: ...\n",
            "[state 2] user intent: goodbye | previous action name: action_listen\n",
            "[state 3] user intent: goodbye | previous action name: utter_goodbye\n",
            "2023-08-06 07:02:23 [debug    ] rule_policy.actions.find       current_states=\n",
            "[state 1] previous action name: ...\n",
            "[state 2] previous action name: action_listen\n",
            "2023-08-06 07:02:23 [debug    ] rule_policy.actions.find       current_states=\n",
            "[state 1] previous action name: ...\n",
            "[state 2] user intent: leave_balance | previous action name: action_listen\n",
            "2023-08-06 07:02:23 [debug    ] rule_policy.actions.find       current_states=\n",
            "[state 1] previous action name: ...\n",
            "[state 2] user intent: leave_balance | previous action name: action_listen\n",
            "[state 3] user intent: leave_balance | previous action name: utter_Leave_balance\n"
          ]
        },
        {
          "output_type": "stream",
          "name": "stderr",
          "text": [
            "Processed trackers: 100%|██████████| 8/8 [00:00<00:00, 115.68it/s]\n",
            "Processed trackers: 100%|██████████| 120/120 [00:00<00:00, 658.33it/s, # action=30]\n",
            "/usr/local/lib/python3.10/dist-packages/rasa/utils/tensorflow/model_data.py:35: VisibleDeprecationWarning: Creating an ndarray from ragged nested sequences (which is a list-or-tuple of lists-or-tuples-or ndarrays with different lengths or shapes) is deprecated. If you meant to do this, you must specify 'dtype=object' when creating the ndarray.\n",
            "  return np.array(ragged_array)\n",
            "Epochs: 100%|██████████| 100/100 [00:30<00:00,  3.27it/s, t_loss=2.29, loss=2.12, acc=0.967]\n",
            "WARNING:rasa.shared.utils.common:The UnexpecTED Intent Policy is currently experimental and might change or be removed in the future 🔬 Please share your feedback on it in the forum (https://forum.rasa.com) to help us make this feature ready for production.\n",
            "Processed trackers: 100%|██████████| 120/120 [00:00<00:00, 976.33it/s, # intent=12]\n",
            "Epochs: 100%|██████████| 100/100 [00:24<00:00,  4.02it/s, t_loss=0.134, loss=0.0172, acc=0.996]\n",
            "/usr/local/lib/python3.10/dist-packages/rasa/core/policies/unexpected_intent_policy.py:839: DeprecationWarning: the `interpolation=` argument to quantile was renamed to `method=`, which has additional options.\n",
            "Users of the modes 'nearest', 'lower', 'higher', or 'midpoint' are encouraged to review the method they. (Deprecated NumPy 1.22)\n",
            "  quantile_values = np.quantile(  # type: ignore[call-overload]\n"
          ]
        },
        {
          "output_type": "stream",
          "name": "stdout",
          "text": [
            "\u001b[92mYour Rasa model is trained and saved at 'models/20230806-070141-old-trough.tar.gz'.\u001b[0m\n"
          ]
        },
        {
          "output_type": "stream",
          "name": "stderr",
          "text": [
            "<frozen importlib._bootstrap>:283: DeprecationWarning: the load_module() method is deprecated and slated for removal in Python 3.12; use exec_module() instead\n"
          ]
        },
        {
          "output_type": "stream",
          "name": "stdout",
          "text": [
            "TrainingResult(model='models/20230806-070141-old-trough.tar.gz', code=0, dry_run_results=None)\n"
          ]
        }
      ],
      "source": [
        "model_path = rasa.train(domain, config, [training_files], output)\n",
        "print(model_path)"
      ]
    },
    {
      "cell_type": "markdown",
      "source": [
        "**writefile config.yml**"
      ],
      "metadata": {
        "id": "puo2AkHLW7tv"
      }
    },
    {
      "cell_type": "code",
      "execution_count": null,
      "metadata": {
        "colab": {
          "base_uri": "https://localhost:8080/"
        },
        "id": "G8xWO3RQJmAx",
        "outputId": "54709747-4bcf-4b92-d1c7-dcb126fa1ab8"
      },
      "outputs": [
        {
          "output_type": "stream",
          "name": "stdout",
          "text": [
            "Overwriting config.yml\n"
          ]
        }
      ],
      "source": [
        "%%writefile config.yml\n",
        "\n",
        "# The config recipe.\n",
        "# https://rasa.com/docs/rasa/model-configuration/\n",
        "recipe: default.v1\n",
        "\n",
        "# The assistant project unique identifier\n",
        "# This default value must be replaced with a unique assistant name within your deployment\n",
        "assistant_id: placeholder_default\n",
        "\n",
        "# Configuration for Rasa NLU.\n",
        "# https://rasa.com/docs/rasa/nlu/components/\n",
        "language: ar\n",
        "\n",
        "pipeline:\n",
        "# # No configuration for the NLU pipeline was provided. The following default pipeline was used to train your model.\n",
        "# # If you'd like to customize it, uncomment and adjust the pipeline.\n",
        "# # See https://rasa.com/docs/rasa/tuning-your-model for more information.\n",
        "   - name: WhitespaceTokenizer\n",
        "   - name: RegexFeaturizer\n",
        "   - name: LexicalSyntacticFeaturizer\n",
        "   - name: CountVectorsFeaturizer\n",
        "   - name: CountVectorsFeaturizer\n",
        "     analyzer: char_wb\n",
        "     min_ngram: 1\n",
        "     max_ngram: 4\n",
        "   - name: DIETClassifier\n",
        "     epochs: 100\n",
        "   - name: EntitySynonymMapper\n",
        "   - name: ResponseSelector\n",
        "     epochs: 100\n",
        "   - name: FallbackClassifier\n",
        "     threshold: 0.3\n",
        "     ambiguity_threshold: 0.1\n",
        "\n",
        "# Configuration for Rasa Core.\n",
        "# https://rasa.com/docs/rasa/core/policies/\n",
        "policies:\n",
        "# # No configuration for policies was provided. The following default policies were used to train your model.\n",
        "# # If you'd like to customize them, uncomment and adjust the policies.\n",
        "# # See https://rasa.com/docs/rasa/policies for more information.\n",
        "   - name: MemoizationPolicy\n",
        "   - name: TEDPolicy\n",
        "     max_history: 5\n",
        "     epochs: 100\n",
        "   - name: RulePolicy\n",
        "\n",
        "logging:\n",
        "  level: ERROR\n",
        "  file: null\n",
        "  format: '%(asctime)s %(levelname)-8s %(name)-30s %(message)s'\n"
      ]
    },
    {
      "cell_type": "markdown",
      "source": [
        "**Test the model**"
      ],
      "metadata": {
        "id": "sFcKWM8-O4yI"
      }
    },
    {
      "cell_type": "code",
      "execution_count": null,
      "metadata": {
        "colab": {
          "base_uri": "https://localhost:8080/"
        },
        "id": "QdDEWAQBhbS6",
        "outputId": "1192aedf-85ca-47c5-ba21-bb71bef888b3"
      },
      "outputs": [
        {
          "output_type": "stream",
          "name": "stderr",
          "text": [
            "/usr/lib/python3.10/random.py:370: DeprecationWarning: non-integer arguments to randrange() have been deprecated since Python 3.10 and will be removed in a subsequent version\n",
            "  return self.randrange(a, b+1)\n",
            "WARNING:rasa.shared.utils.common:The UnexpecTED Intent Policy is currently experimental and might change or be removed in the future 🔬 Please share your feedback on it in the forum (https://forum.rasa.com) to help us make this feature ready for production.\n"
          ]
        },
        {
          "name": "stdout",
          "output_type": "stream",
          "text": [
            "Your bot is ready to talk! Type your messages here or send '/stop'.\n",
            "/stop\n"
          ]
        }
      ],
      "source": [
        "from rasa.jupyter import chat\n",
        "\n",
        "endpoints = None\n",
        "chat(model_path.model, endpoints)"
      ]
    },
    {
      "cell_type": "markdown",
      "source": [
        "**writefile endpoints.yml**"
      ],
      "metadata": {
        "id": "jfLSWfZ9Xh1g"
      }
    },
    {
      "cell_type": "code",
      "execution_count": null,
      "metadata": {
        "colab": {
          "base_uri": "https://localhost:8080/"
        },
        "id": "LFBp48ou7SAa",
        "outputId": "2127f7a9-6600-468c-c84d-89eed1c4b688"
      },
      "outputs": [
        {
          "output_type": "stream",
          "name": "stdout",
          "text": [
            "Overwriting endpoints.yml\n"
          ]
        }
      ],
      "source": [
        "%%writefile endpoints.yml\n",
        "\n",
        "# This file contains the different endpoints your bot can use.\n",
        "\n",
        "# Server where the models are pulled from.\n",
        "# https://rasa.com/docs/rasa/model-storage#fetching-models-from-a-server\n",
        "\n",
        "#models:\n",
        "#  url: http://my-server.com/models/default_core@latest\n",
        "#  wait_time_between_pulls:  10   # [optional](default: 100)\n",
        "\n",
        "# Server which runs your custom actions.\n",
        "# https://rasa.com/docs/rasa/custom-actions\n",
        "\n",
        "#action_endpoint:\n",
        "#  url: \"http://localhost:5055/webhook\"\n",
        "\n",
        "# Tracker store which is used to store the conversations.\n",
        "# By default the conversations are stored in memory.\n",
        "# https://rasa.com/docs/rasa/tracker-stores\n",
        "\n",
        "#tracker_store:\n",
        "#    type: redis\n",
        "#    url: <host of the redis instance, e.g. localhost>\n",
        "#    port: <port of your redis instance, usually 6379>\n",
        "#    db: <number of your database within redis, e.g. 0>\n",
        "#    password: <password used for authentication>\n",
        "#    use_ssl: <whether or not the communication is encrypted, default false>\n",
        "\n",
        "#tracker_store:\n",
        "#    type: mongod\n",
        "#    url: <url to your mongo instance, e.g. mongodb://localhost:27017>\n",
        "#    db: <name of the db within your mongo instance, e.g. rasa>\n",
        "#    username: <username used for authentication>\n",
        "#    password: <password used for authentication>\n",
        "\n",
        "# Event broker which all conversation events should be streamed to.\n",
        "# https://rasa.com/docs/rasa/event-brokers\n",
        "\n",
        "#event_broker:\n",
        "#  url: localhost\n",
        "#  username: username\n",
        "#  password: password\n",
        "#  queue: queue"
      ]
    },
    {
      "cell_type": "code",
      "execution_count": null,
      "metadata": {
        "id": "kDhcatm_tal2"
      },
      "outputs": [],
      "source": [
        "import os\n",
        "\n",
        "os.environ['COLUMNS'] = \"200\""
      ]
    },
    {
      "cell_type": "markdown",
      "source": [
        "**Loads your trained model and lets you talk to your assistant on the command line**"
      ],
      "metadata": {
        "id": "2_WQApxergyr"
      }
    },
    {
      "cell_type": "code",
      "execution_count": null,
      "metadata": {
        "id": "fBtkA7NbsdyJ"
      },
      "outputs": [],
      "source": [
        "#!rasa shell\n",
        "#Not working on colab"
      ]
    }
  ],
  "metadata": {
    "colab": {
      "provenance": [],
      "include_colab_link": true
    },
    "kernelspec": {
      "display_name": "Python 3",
      "name": "python3"
    },
    "language_info": {
      "name": "python"
    }
  },
  "nbformat": 4,
  "nbformat_minor": 0
}